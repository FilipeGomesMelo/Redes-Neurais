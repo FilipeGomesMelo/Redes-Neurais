{
 "cells": [
  {
   "cell_type": "code",
   "execution_count": 1,
   "metadata": {},
   "outputs": [],
   "source": [
    "import pandas as pd\n",
    "import numpy as np\n",
    "from sklearn.model_selection import train_test_split\n",
    "from sklearn.preprocessing import StandardScaler, LabelEncoder\n",
    "from sklearn.metrics import confusion_matrix, roc_curve, auc, mean_squared_error, recall_score, precision_score, f1_score\n",
    "import seaborn as sns\n",
    "import matplotlib.pyplot as plt"
   ]
  },
  {
   "cell_type": "code",
   "execution_count": 2,
   "metadata": {},
   "outputs": [],
   "source": [
    "validation_df = pd.read_csv('dataset_tratado/validation_df.csv')\n",
    "train_df = pd.read_csv('dataset_tratado/train_df.csv')"
   ]
  },
  {
   "cell_type": "code",
   "execution_count": 3,
   "metadata": {},
   "outputs": [
    {
     "data": {
      "text/html": [
       "<div>\n",
       "<style scoped>\n",
       "    .dataframe tbody tr th:only-of-type {\n",
       "        vertical-align: middle;\n",
       "    }\n",
       "\n",
       "    .dataframe tbody tr th {\n",
       "        vertical-align: top;\n",
       "    }\n",
       "\n",
       "    .dataframe thead th {\n",
       "        text-align: right;\n",
       "    }\n",
       "</style>\n",
       "<table border=\"1\" class=\"dataframe\">\n",
       "  <thead>\n",
       "    <tr style=\"text-align: right;\">\n",
       "      <th></th>\n",
       "      <th>Age</th>\n",
       "      <th>Flight Distance</th>\n",
       "      <th>Inflight wifi service</th>\n",
       "      <th>Departure/Arrival time convenient</th>\n",
       "      <th>Ease of Online booking</th>\n",
       "      <th>Gate location</th>\n",
       "      <th>Food and drink</th>\n",
       "      <th>Online boarding</th>\n",
       "      <th>Seat comfort</th>\n",
       "      <th>Inflight entertainment</th>\n",
       "      <th>...</th>\n",
       "      <th>Gender_Female</th>\n",
       "      <th>Gender_Male</th>\n",
       "      <th>Customer Type_Loyal Customer</th>\n",
       "      <th>Customer Type_disloyal Customer</th>\n",
       "      <th>Type of Travel_Business travel</th>\n",
       "      <th>Type of Travel_Personal Travel</th>\n",
       "      <th>Class_Business</th>\n",
       "      <th>Class_Eco</th>\n",
       "      <th>Class_Eco Plus</th>\n",
       "      <th>satisfaction</th>\n",
       "    </tr>\n",
       "  </thead>\n",
       "  <tbody>\n",
       "    <tr>\n",
       "      <th>0</th>\n",
       "      <td>-0.277804</td>\n",
       "      <td>-0.089306</td>\n",
       "      <td>-1.446976</td>\n",
       "      <td>-0.754370</td>\n",
       "      <td>-0.451942</td>\n",
       "      <td>-0.812200</td>\n",
       "      <td>0.026713</td>\n",
       "      <td>-0.568924</td>\n",
       "      <td>-0.797232</td>\n",
       "      <td>-1.436397</td>\n",
       "      <td>...</td>\n",
       "      <td>1.0</td>\n",
       "      <td>0.0</td>\n",
       "      <td>1.0</td>\n",
       "      <td>0.0</td>\n",
       "      <td>1.0</td>\n",
       "      <td>0.0</td>\n",
       "      <td>1.0</td>\n",
       "      <td>0.0</td>\n",
       "      <td>0.0</td>\n",
       "      <td>0</td>\n",
       "    </tr>\n",
       "    <tr>\n",
       "      <th>1</th>\n",
       "      <td>-0.216967</td>\n",
       "      <td>-1.004828</td>\n",
       "      <td>-1.446976</td>\n",
       "      <td>-2.083373</td>\n",
       "      <td>-1.279667</td>\n",
       "      <td>-0.812200</td>\n",
       "      <td>-1.460984</td>\n",
       "      <td>-1.438593</td>\n",
       "      <td>-1.564104</td>\n",
       "      <td>-1.436397</td>\n",
       "      <td>...</td>\n",
       "      <td>1.0</td>\n",
       "      <td>0.0</td>\n",
       "      <td>1.0</td>\n",
       "      <td>0.0</td>\n",
       "      <td>0.0</td>\n",
       "      <td>1.0</td>\n",
       "      <td>0.0</td>\n",
       "      <td>1.0</td>\n",
       "      <td>0.0</td>\n",
       "      <td>0</td>\n",
       "    </tr>\n",
       "    <tr>\n",
       "      <th>2</th>\n",
       "      <td>1.668967</td>\n",
       "      <td>-0.408911</td>\n",
       "      <td>1.656614</td>\n",
       "      <td>-0.754370</td>\n",
       "      <td>1.203508</td>\n",
       "      <td>0.852722</td>\n",
       "      <td>0.770562</td>\n",
       "      <td>1.170413</td>\n",
       "      <td>0.736513</td>\n",
       "      <td>0.832220</td>\n",
       "      <td>...</td>\n",
       "      <td>0.0</td>\n",
       "      <td>1.0</td>\n",
       "      <td>1.0</td>\n",
       "      <td>0.0</td>\n",
       "      <td>0.0</td>\n",
       "      <td>1.0</td>\n",
       "      <td>0.0</td>\n",
       "      <td>0.0</td>\n",
       "      <td>1.0</td>\n",
       "      <td>0</td>\n",
       "    </tr>\n",
       "    <tr>\n",
       "      <th>3</th>\n",
       "      <td>0.999764</td>\n",
       "      <td>1.976030</td>\n",
       "      <td>0.622084</td>\n",
       "      <td>1.239135</td>\n",
       "      <td>0.375783</td>\n",
       "      <td>0.020261</td>\n",
       "      <td>0.026713</td>\n",
       "      <td>0.300744</td>\n",
       "      <td>1.503385</td>\n",
       "      <td>0.832220</td>\n",
       "      <td>...</td>\n",
       "      <td>1.0</td>\n",
       "      <td>0.0</td>\n",
       "      <td>1.0</td>\n",
       "      <td>0.0</td>\n",
       "      <td>0.0</td>\n",
       "      <td>1.0</td>\n",
       "      <td>0.0</td>\n",
       "      <td>1.0</td>\n",
       "      <td>0.0</td>\n",
       "      <td>0</td>\n",
       "    </tr>\n",
       "    <tr>\n",
       "      <th>4</th>\n",
       "      <td>1.486457</td>\n",
       "      <td>-0.307045</td>\n",
       "      <td>-0.412446</td>\n",
       "      <td>-0.754370</td>\n",
       "      <td>-0.451942</td>\n",
       "      <td>0.852722</td>\n",
       "      <td>0.770562</td>\n",
       "      <td>-0.568924</td>\n",
       "      <td>0.736513</td>\n",
       "      <td>0.832220</td>\n",
       "      <td>...</td>\n",
       "      <td>0.0</td>\n",
       "      <td>1.0</td>\n",
       "      <td>1.0</td>\n",
       "      <td>0.0</td>\n",
       "      <td>0.0</td>\n",
       "      <td>1.0</td>\n",
       "      <td>0.0</td>\n",
       "      <td>1.0</td>\n",
       "      <td>0.0</td>\n",
       "      <td>0</td>\n",
       "    </tr>\n",
       "  </tbody>\n",
       "</table>\n",
       "<p>5 rows × 28 columns</p>\n",
       "</div>"
      ],
      "text/plain": [
       "        Age  Flight Distance  Inflight wifi service  \\\n",
       "0 -0.277804        -0.089306              -1.446976   \n",
       "1 -0.216967        -1.004828              -1.446976   \n",
       "2  1.668967        -0.408911               1.656614   \n",
       "3  0.999764         1.976030               0.622084   \n",
       "4  1.486457        -0.307045              -0.412446   \n",
       "\n",
       "   Departure/Arrival time convenient  Ease of Online booking  Gate location  \\\n",
       "0                          -0.754370               -0.451942      -0.812200   \n",
       "1                          -2.083373               -1.279667      -0.812200   \n",
       "2                          -0.754370                1.203508       0.852722   \n",
       "3                           1.239135                0.375783       0.020261   \n",
       "4                          -0.754370               -0.451942       0.852722   \n",
       "\n",
       "   Food and drink  Online boarding  Seat comfort  Inflight entertainment  ...  \\\n",
       "0        0.026713        -0.568924     -0.797232               -1.436397  ...   \n",
       "1       -1.460984        -1.438593     -1.564104               -1.436397  ...   \n",
       "2        0.770562         1.170413      0.736513                0.832220  ...   \n",
       "3        0.026713         0.300744      1.503385                0.832220  ...   \n",
       "4        0.770562        -0.568924      0.736513                0.832220  ...   \n",
       "\n",
       "   Gender_Female  Gender_Male  Customer Type_Loyal Customer  \\\n",
       "0            1.0          0.0                           1.0   \n",
       "1            1.0          0.0                           1.0   \n",
       "2            0.0          1.0                           1.0   \n",
       "3            1.0          0.0                           1.0   \n",
       "4            0.0          1.0                           1.0   \n",
       "\n",
       "   Customer Type_disloyal Customer  Type of Travel_Business travel  \\\n",
       "0                              0.0                             1.0   \n",
       "1                              0.0                             0.0   \n",
       "2                              0.0                             0.0   \n",
       "3                              0.0                             0.0   \n",
       "4                              0.0                             0.0   \n",
       "\n",
       "   Type of Travel_Personal Travel  Class_Business  Class_Eco  Class_Eco Plus  \\\n",
       "0                             0.0             1.0        0.0             0.0   \n",
       "1                             1.0             0.0        1.0             0.0   \n",
       "2                             1.0             0.0        0.0             1.0   \n",
       "3                             1.0             0.0        1.0             0.0   \n",
       "4                             1.0             0.0        1.0             0.0   \n",
       "\n",
       "   satisfaction  \n",
       "0             0  \n",
       "1             0  \n",
       "2             0  \n",
       "3             0  \n",
       "4             0  \n",
       "\n",
       "[5 rows x 28 columns]"
      ]
     },
     "execution_count": 3,
     "metadata": {},
     "output_type": "execute_result"
    }
   ],
   "source": [
    "train_df.head()"
   ]
  },
  {
   "cell_type": "code",
   "execution_count": 4,
   "metadata": {},
   "outputs": [],
   "source": [
    "X_train = train_df.drop(columns=['satisfaction']).values\n",
    "y_train = train_df['satisfaction'].values"
   ]
  },
  {
   "cell_type": "code",
   "execution_count": 5,
   "metadata": {},
   "outputs": [],
   "source": [
    "X_validation = validation_df.drop(columns=['satisfaction']).values\n",
    "y_validation = validation_df['satisfaction'].values"
   ]
  },
  {
   "cell_type": "markdown",
   "metadata": {},
   "source": [
    "### Treinando Random Forest"
   ]
  },
  {
   "cell_type": "code",
   "execution_count": 6,
   "metadata": {},
   "outputs": [
    {
     "data": {
      "text/html": [
       "<style>#sk-container-id-1 {color: black;background-color: white;}#sk-container-id-1 pre{padding: 0;}#sk-container-id-1 div.sk-toggleable {background-color: white;}#sk-container-id-1 label.sk-toggleable__label {cursor: pointer;display: block;width: 100%;margin-bottom: 0;padding: 0.3em;box-sizing: border-box;text-align: center;}#sk-container-id-1 label.sk-toggleable__label-arrow:before {content: \"▸\";float: left;margin-right: 0.25em;color: #696969;}#sk-container-id-1 label.sk-toggleable__label-arrow:hover:before {color: black;}#sk-container-id-1 div.sk-estimator:hover label.sk-toggleable__label-arrow:before {color: black;}#sk-container-id-1 div.sk-toggleable__content {max-height: 0;max-width: 0;overflow: hidden;text-align: left;background-color: #f0f8ff;}#sk-container-id-1 div.sk-toggleable__content pre {margin: 0.2em;color: black;border-radius: 0.25em;background-color: #f0f8ff;}#sk-container-id-1 input.sk-toggleable__control:checked~div.sk-toggleable__content {max-height: 200px;max-width: 100%;overflow: auto;}#sk-container-id-1 input.sk-toggleable__control:checked~label.sk-toggleable__label-arrow:before {content: \"▾\";}#sk-container-id-1 div.sk-estimator input.sk-toggleable__control:checked~label.sk-toggleable__label {background-color: #d4ebff;}#sk-container-id-1 div.sk-label input.sk-toggleable__control:checked~label.sk-toggleable__label {background-color: #d4ebff;}#sk-container-id-1 input.sk-hidden--visually {border: 0;clip: rect(1px 1px 1px 1px);clip: rect(1px, 1px, 1px, 1px);height: 1px;margin: -1px;overflow: hidden;padding: 0;position: absolute;width: 1px;}#sk-container-id-1 div.sk-estimator {font-family: monospace;background-color: #f0f8ff;border: 1px dotted black;border-radius: 0.25em;box-sizing: border-box;margin-bottom: 0.5em;}#sk-container-id-1 div.sk-estimator:hover {background-color: #d4ebff;}#sk-container-id-1 div.sk-parallel-item::after {content: \"\";width: 100%;border-bottom: 1px solid gray;flex-grow: 1;}#sk-container-id-1 div.sk-label:hover label.sk-toggleable__label {background-color: #d4ebff;}#sk-container-id-1 div.sk-serial::before {content: \"\";position: absolute;border-left: 1px solid gray;box-sizing: border-box;top: 0;bottom: 0;left: 50%;z-index: 0;}#sk-container-id-1 div.sk-serial {display: flex;flex-direction: column;align-items: center;background-color: white;padding-right: 0.2em;padding-left: 0.2em;position: relative;}#sk-container-id-1 div.sk-item {position: relative;z-index: 1;}#sk-container-id-1 div.sk-parallel {display: flex;align-items: stretch;justify-content: center;background-color: white;position: relative;}#sk-container-id-1 div.sk-item::before, #sk-container-id-1 div.sk-parallel-item::before {content: \"\";position: absolute;border-left: 1px solid gray;box-sizing: border-box;top: 0;bottom: 0;left: 50%;z-index: -1;}#sk-container-id-1 div.sk-parallel-item {display: flex;flex-direction: column;z-index: 1;position: relative;background-color: white;}#sk-container-id-1 div.sk-parallel-item:first-child::after {align-self: flex-end;width: 50%;}#sk-container-id-1 div.sk-parallel-item:last-child::after {align-self: flex-start;width: 50%;}#sk-container-id-1 div.sk-parallel-item:only-child::after {width: 0;}#sk-container-id-1 div.sk-dashed-wrapped {border: 1px dashed gray;margin: 0 0.4em 0.5em 0.4em;box-sizing: border-box;padding-bottom: 0.4em;background-color: white;}#sk-container-id-1 div.sk-label label {font-family: monospace;font-weight: bold;display: inline-block;line-height: 1.2em;}#sk-container-id-1 div.sk-label-container {text-align: center;}#sk-container-id-1 div.sk-container {/* jupyter's `normalize.less` sets `[hidden] { display: none; }` but bootstrap.min.css set `[hidden] { display: none !important; }` so we also need the `!important` here to be able to override the default hidden behavior on the sphinx rendered scikit-learn.org. See: https://github.com/scikit-learn/scikit-learn/issues/21755 */display: inline-block !important;position: relative;}#sk-container-id-1 div.sk-text-repr-fallback {display: none;}</style><div id=\"sk-container-id-1\" class=\"sk-top-container\"><div class=\"sk-text-repr-fallback\"><pre>RandomForestClassifier()</pre><b>In a Jupyter environment, please rerun this cell to show the HTML representation or trust the notebook. <br />On GitHub, the HTML representation is unable to render, please try loading this page with nbviewer.org.</b></div><div class=\"sk-container\" hidden><div class=\"sk-item\"><div class=\"sk-estimator sk-toggleable\"><input class=\"sk-toggleable__control sk-hidden--visually\" id=\"sk-estimator-id-1\" type=\"checkbox\" checked><label for=\"sk-estimator-id-1\" class=\"sk-toggleable__label sk-toggleable__label-arrow\">RandomForestClassifier</label><div class=\"sk-toggleable__content\"><pre>RandomForestClassifier()</pre></div></div></div></div></div>"
      ],
      "text/plain": [
       "RandomForestClassifier()"
      ]
     },
     "execution_count": 6,
     "metadata": {},
     "output_type": "execute_result"
    }
   ],
   "source": [
    "from sklearn.ensemble import RandomForestClassifier\n",
    "from sklearn.metrics import accuracy_score\n",
    "\n",
    "\n",
    "rf = RandomForestClassifier()\n",
    "rf.fit(X_train, y_train)"
   ]
  },
  {
   "cell_type": "markdown",
   "metadata": {},
   "source": [
    "### Acurácia"
   ]
  },
  {
   "cell_type": "code",
   "execution_count": 7,
   "metadata": {},
   "outputs": [
    {
     "name": "stdout",
     "output_type": "stream",
     "text": [
      "Acurácia: 0.7202818627450981\n"
     ]
    }
   ],
   "source": [
    "y_pred = rf.predict(X_validation)\n",
    "\n",
    "print(\"Acurácia:\", accuracy_score(y_validation, y_pred))"
   ]
  },
  {
   "cell_type": "markdown",
   "metadata": {},
   "source": [
    "### Mean Squared Error"
   ]
  },
  {
   "cell_type": "code",
   "execution_count": 8,
   "metadata": {},
   "outputs": [
    {
     "name": "stdout",
     "output_type": "stream",
     "text": [
      "Mean Squared Error: 0.27971813725490197\n"
     ]
    }
   ],
   "source": [
    "mse = mean_squared_error(y_validation, y_pred)\n",
    "print(f\"Mean Squared Error: {mse}\")"
   ]
  },
  {
   "cell_type": "markdown",
   "metadata": {},
   "source": [
    "### Precisão"
   ]
  },
  {
   "cell_type": "code",
   "execution_count": 9,
   "metadata": {},
   "outputs": [
    {
     "name": "stdout",
     "output_type": "stream",
     "text": [
      "Precision Score Macro: 0.8091497044734453\n",
      "Precision Score Micro: 0.7202818627450981\n",
      "Precision Score Weighted: 0.8091497044734454\n"
     ]
    }
   ],
   "source": [
    "precision = precision_score(y_validation, y_pred, average='macro') # Calcula a precisão para cada classe e depois faz a média (não leva em conta o desequilíbrio das classes)\n",
    "print(f\"Precision Score Macro: {precision}\")\n",
    "\n",
    "precision = precision_score(y_validation, y_pred, average='micro') # Calcula a métrica globalmente contando os totais verdadeiros positivos, falsos negativos, e falsos positivos\n",
    "print(f\"Precision Score Micro: {precision}\")\n",
    "\n",
    "precision = precision_score(y_validation, y_pred, average='weighted') # Calcula a precisão para cada classe e depois faz a média ponderada pelo suporte (leva em conta o desequilíbrio das classes)\n",
    "print(f\"Precision Score Weighted: {precision}\")"
   ]
  },
  {
   "cell_type": "markdown",
   "metadata": {},
   "source": [
    "### Recall"
   ]
  },
  {
   "cell_type": "code",
   "execution_count": 10,
   "metadata": {},
   "outputs": [
    {
     "name": "stdout",
     "output_type": "stream",
     "text": [
      "Recall: 0.7202818627450981\n"
     ]
    }
   ],
   "source": [
    "recall = recall_score(y_validation, y_pred, average='macro')\n",
    "print(f\"Recall: {recall}\")"
   ]
  },
  {
   "cell_type": "markdown",
   "metadata": {},
   "source": [
    "F1 Score"
   ]
  },
  {
   "cell_type": "code",
   "execution_count": 11,
   "metadata": {},
   "outputs": [
    {
     "name": "stdout",
     "output_type": "stream",
     "text": [
      "Test F1-Score: 0.6986235232331969\n"
     ]
    }
   ],
   "source": [
    "test_f1 = f1_score(y_validation, y_pred, average='macro')\n",
    "print(\"Test F1-Score:\", test_f1)"
   ]
  },
  {
   "cell_type": "markdown",
   "metadata": {},
   "source": [
    "### Matriz de confusão"
   ]
  },
  {
   "cell_type": "code",
   "execution_count": 12,
   "metadata": {},
   "outputs": [],
   "source": [
    "def plot_matrix(cm: np.ndarray):\n",
    "    cm_percent = cm.astype('float') / cm.sum(axis=1)[:, np.newaxis]\n",
    "    plt.figure(figsize=(8, 6))\n",
    "    sns.heatmap(cm_percent, annot=True, cmap='Blues', fmt='.1%', cbar=False)\n",
    "    plt.xlabel('Predicted labels')\n",
    "    plt.ylabel('True labels')\n",
    "    plt.title('Confusion Matrix')\n",
    "    plt.show()"
   ]
  },
  {
   "cell_type": "code",
   "execution_count": 13,
   "metadata": {},
   "outputs": [
    {
     "data": {
      "image/png": "[encoded data removed]",
      "text/plain": [
       "<Figure size 800x600 with 1 Axes>"
      ]
     },
     "metadata": {},
     "output_type": "display_data"
    }
   ],
   "source": [
    "cm = confusion_matrix(y_validation, y_pred)\n",
    "plot_matrix(cm)"
   ]
  },
  {
   "cell_type": "markdown",
   "metadata": {},
   "source": [
    "### Curva ROC"
   ]
  },
  {
   "cell_type": "code",
   "execution_count": 14,
   "metadata": {},
   "outputs": [
    {
     "data": {
      "image/png": "[encoded data removed]",
      "text/plain": [
       "<Figure size 640x480 with 1 Axes>"
      ]
     },
     "metadata": {},
     "output_type": "display_data"
    }
   ],
   "source": [
    "# TODO: Plotar a curva ROC\n",
    "from sklearn.metrics import RocCurveDisplay\n",
    "\n",
    "rf_roc = RocCurveDisplay.from_estimator(rf, X_validation, y_validation)\n",
    "plt.show()"
   ]
  },
  {
   "cell_type": "markdown",
   "metadata": {},
   "source": [
    "### Curva KS"
   ]
  },
  {
   "cell_type": "code",
   "execution_count": 18,
   "metadata": {},
   "outputs": [],
   "source": [
    "# Predict probabilities for the positive class\n",
    "y_prob = rf.predict_proba(X_validation)[:, 1]"
   ]
  },
  {
   "cell_type": "code",
   "execution_count": 19,
   "metadata": {},
   "outputs": [],
   "source": [
    "# Separate the probabilities by class\n",
    "prob_positive = y_prob[y_validation == 1]\n",
    "prob_negative = y_prob[y_validation == 0]\n",
    "\n",
    "# Sort the probabilities\n",
    "prob_positive_sorted = np.sort(prob_positive)\n",
    "prob_negative_sorted = np.sort(prob_negative)\n",
    "\n",
    "# Calculate the cumulative distribution\n",
    "cdf_positive = np.arange(1, len(prob_positive_sorted) + 1) / len(prob_positive_sorted)\n",
    "cdf_negative = np.arange(1, len(prob_negative_sorted) + 1) / len(prob_negative_sorted)"
   ]
  },
  {
   "cell_type": "markdown",
   "metadata": {},
   "source": [
    "#### Estatística KS"
   ]
  },
  {
   "cell_type": "code",
   "execution_count": 20,
   "metadata": {},
   "outputs": [
    {
     "name": "stdout",
     "output_type": "stream",
     "text": [
      "KS Statistic: 0.90\n"
     ]
    }
   ],
   "source": [
    "from scipy import interpolate\n",
    "\n",
    "# Interpolate to find the maximum difference between CDFs\n",
    "f_positive = interpolate.interp1d(prob_positive_sorted, cdf_positive, bounds_error=False, fill_value=(0, 1))\n",
    "f_negative = interpolate.interp1d(prob_negative_sorted, cdf_negative, bounds_error=False, fill_value=(0, 1))\n",
    "\n",
    "# Define a range of probabilities\n",
    "prob_range = np.linspace(0, 1, max(len(prob_positive_sorted), len(prob_negative_sorted)))\n",
    "\n",
    "# Calculate the CDF values for the range of probabilities\n",
    "cdf_positive_interp = f_positive(prob_range)\n",
    "cdf_negative_interp = f_negative(prob_range)\n",
    "\n",
    "# Compute the KS statistic\n",
    "ks_statistic = np.max(np.abs(cdf_positive_interp - cdf_negative_interp))\n",
    "print(f'KS Statistic: {ks_statistic:.2f}')"
   ]
  },
  {
   "cell_type": "markdown",
   "metadata": {},
   "source": [
    "#### Plotando a curva"
   ]
  },
  {
   "cell_type": "code",
   "execution_count": 21,
   "metadata": {},
   "outputs": [
    {
     "data": {
      "image/png": "[encoded data removed]",
      "text/plain": [
       "<Figure size 640x480 with 1 Axes>"
      ]
     },
     "metadata": {},
     "output_type": "display_data"
    }
   ],
   "source": [
    "# Plot CDFs\n",
    "plt.plot(prob_range, cdf_positive_interp, label='CDF Positive')\n",
    "plt.plot(prob_range, cdf_negative_interp, label='CDF Negative')\n",
    "\n",
    "# Highlight KS statistic\n",
    "ks_position = np.argmax(np.abs(cdf_positive_interp - cdf_negative_interp))\n",
    "plt.plot([prob_range[ks_position], prob_range[ks_position]], \n",
    "         [cdf_positive_interp[ks_position], cdf_negative_interp[ks_position]], \n",
    "         color='red', linestyle='--', label=f'KS Statistic = {ks_statistic:.2f}')\n",
    "\n",
    "plt.xlabel('Predicted Probability')\n",
    "plt.ylabel('Cumulative Distribution')\n",
    "plt.title('Kolmogorov-Smirnov (KS) Curve')\n",
    "plt.legend()\n",
    "plt.show()"
   ]
  },
  {
   "cell_type": "markdown",
   "metadata": {},
   "source": [
    "* A linha azul (CDF Positivo) começa a subir mais devagar comparado à linha laranja (CDF Negativo). Isso sugere que inicialmente, para valores de probabilidade baixos, há mais amostras negativas do que positivas.\n",
    "* À medida que as probabilidades aumentam, a linha azul sobe significativamente, indicando que para valores mais altos de probabilidade, a maioria das amostras são positivas.\n",
    "* A linha azul e a linha laranja são bastante distintas na maior parte do gráfico, o que seria um indicativo de que o modelo é bom em separar as amostras positivas das negativas.\n",
    "* A linha laranja (CDF negativa) sobe rapidamente em valores mais baixos de probabilidade prevista, o que indica que a maioria das amostras negativas estão corretamente identificadas com baixas probabilidades de serem positivas. O que significa que o modelo tem uma baixa taxa de falsos positivos (é possível confirmar isso pela matriz de confusão)\n",
    "* A linha azul (CDF positiva) sobe de forma mais gradual e atinge altas probabilidades previstas. Isso mostra que o modelo também é eficaz em identificar amostras positivas, embora o comportamento da linha azul possa indicar que, para algumas amostras positivas, as probabilidades previstas estão distribuídas mais amplamente (também possível ver esta distribuição a partir da matriz de confusão).\n"
   ]
  }
 ],
 "metadata": {
  "kernelspec": {
   "display_name": "Python 3",
   "language": "python",
   "name": "python3"
  },
  "language_info": {
   "codemirror_mode": {
    "name": "ipython",
    "version": 3
   },
   "file_extension": ".py",
   "mimetype": "text/x-python",
   "name": "python",
   "nbconvert_exporter": "python",
   "pygments_lexer": "ipython3",
   "version": "3.10.11"
  }
 },
 "nbformat": 4,
 "nbformat_minor": 2
}
