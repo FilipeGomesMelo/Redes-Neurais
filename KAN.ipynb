{
 "cells": [
  {
   "cell_type": "code",
   "execution_count": 42,
   "metadata": {},
   "outputs": [],
   "source": [
    "import pandas as pd\n",
    "import numpy as np\n",
    "from sklearn.model_selection import train_test_split\n",
    "from sklearn.preprocessing import StandardScaler, LabelEncoder\n",
    "from sklearn.metrics import confusion_matrix, roc_curve, auc, mean_squared_error, recall_score, precision_score, f1_score\n",
    "import seaborn as sns\n",
    "import torch\n",
    "from kan import KAN\n",
    "import matplotlib.pyplot as plt"
   ]
  },
  {
   "cell_type": "code",
   "execution_count": 9,
   "metadata": {},
   "outputs": [],
   "source": [
    "validation_df = pd.read_csv('dataset_tratado/validation_df.csv')\n",
    "train_df = pd.read_csv('dataset_tratado/train_df.csv')"
   ]
  },
  {
   "cell_type": "code",
   "execution_count": 10,
   "metadata": {},
   "outputs": [
    {
     "data": {
      "text/html": [
       "<div>\n",
       "<style scoped>\n",
       "    .dataframe tbody tr th:only-of-type {\n",
       "        vertical-align: middle;\n",
       "    }\n",
       "\n",
       "    .dataframe tbody tr th {\n",
       "        vertical-align: top;\n",
       "    }\n",
       "\n",
       "    .dataframe thead th {\n",
       "        text-align: right;\n",
       "    }\n",
       "</style>\n",
       "<table border=\"1\" class=\"dataframe\">\n",
       "  <thead>\n",
       "    <tr style=\"text-align: right;\">\n",
       "      <th></th>\n",
       "      <th>Age</th>\n",
       "      <th>Flight Distance</th>\n",
       "      <th>Inflight wifi service</th>\n",
       "      <th>Departure/Arrival time convenient</th>\n",
       "      <th>Ease of Online booking</th>\n",
       "      <th>Gate location</th>\n",
       "      <th>Food and drink</th>\n",
       "      <th>Online boarding</th>\n",
       "      <th>Seat comfort</th>\n",
       "      <th>Inflight entertainment</th>\n",
       "      <th>...</th>\n",
       "      <th>Gender_Female</th>\n",
       "      <th>Gender_Male</th>\n",
       "      <th>Customer Type_Loyal Customer</th>\n",
       "      <th>Customer Type_disloyal Customer</th>\n",
       "      <th>Type of Travel_Business travel</th>\n",
       "      <th>Type of Travel_Personal Travel</th>\n",
       "      <th>Class_Business</th>\n",
       "      <th>Class_Eco</th>\n",
       "      <th>Class_Eco Plus</th>\n",
       "      <th>satisfaction</th>\n",
       "    </tr>\n",
       "  </thead>\n",
       "  <tbody>\n",
       "    <tr>\n",
       "      <th>0</th>\n",
       "      <td>-0.277804</td>\n",
       "      <td>-0.089306</td>\n",
       "      <td>-1.446976</td>\n",
       "      <td>-0.754370</td>\n",
       "      <td>-0.451942</td>\n",
       "      <td>-0.812200</td>\n",
       "      <td>0.026713</td>\n",
       "      <td>-0.568924</td>\n",
       "      <td>-0.797232</td>\n",
       "      <td>-1.436397</td>\n",
       "      <td>...</td>\n",
       "      <td>1.0</td>\n",
       "      <td>0.0</td>\n",
       "      <td>1.0</td>\n",
       "      <td>0.0</td>\n",
       "      <td>1.0</td>\n",
       "      <td>0.0</td>\n",
       "      <td>1.0</td>\n",
       "      <td>0.0</td>\n",
       "      <td>0.0</td>\n",
       "      <td>0</td>\n",
       "    </tr>\n",
       "    <tr>\n",
       "      <th>1</th>\n",
       "      <td>-0.216967</td>\n",
       "      <td>-1.004828</td>\n",
       "      <td>-1.446976</td>\n",
       "      <td>-2.083373</td>\n",
       "      <td>-1.279667</td>\n",
       "      <td>-0.812200</td>\n",
       "      <td>-1.460984</td>\n",
       "      <td>-1.438593</td>\n",
       "      <td>-1.564104</td>\n",
       "      <td>-1.436397</td>\n",
       "      <td>...</td>\n",
       "      <td>1.0</td>\n",
       "      <td>0.0</td>\n",
       "      <td>1.0</td>\n",
       "      <td>0.0</td>\n",
       "      <td>0.0</td>\n",
       "      <td>1.0</td>\n",
       "      <td>0.0</td>\n",
       "      <td>1.0</td>\n",
       "      <td>0.0</td>\n",
       "      <td>0</td>\n",
       "    </tr>\n",
       "    <tr>\n",
       "      <th>2</th>\n",
       "      <td>1.668967</td>\n",
       "      <td>-0.408911</td>\n",
       "      <td>1.656614</td>\n",
       "      <td>-0.754370</td>\n",
       "      <td>1.203508</td>\n",
       "      <td>0.852722</td>\n",
       "      <td>0.770562</td>\n",
       "      <td>1.170413</td>\n",
       "      <td>0.736513</td>\n",
       "      <td>0.832220</td>\n",
       "      <td>...</td>\n",
       "      <td>0.0</td>\n",
       "      <td>1.0</td>\n",
       "      <td>1.0</td>\n",
       "      <td>0.0</td>\n",
       "      <td>0.0</td>\n",
       "      <td>1.0</td>\n",
       "      <td>0.0</td>\n",
       "      <td>0.0</td>\n",
       "      <td>1.0</td>\n",
       "      <td>0</td>\n",
       "    </tr>\n",
       "    <tr>\n",
       "      <th>3</th>\n",
       "      <td>0.999764</td>\n",
       "      <td>1.976030</td>\n",
       "      <td>0.622084</td>\n",
       "      <td>1.239135</td>\n",
       "      <td>0.375783</td>\n",
       "      <td>0.020261</td>\n",
       "      <td>0.026713</td>\n",
       "      <td>0.300744</td>\n",
       "      <td>1.503385</td>\n",
       "      <td>0.832220</td>\n",
       "      <td>...</td>\n",
       "      <td>1.0</td>\n",
       "      <td>0.0</td>\n",
       "      <td>1.0</td>\n",
       "      <td>0.0</td>\n",
       "      <td>0.0</td>\n",
       "      <td>1.0</td>\n",
       "      <td>0.0</td>\n",
       "      <td>1.0</td>\n",
       "      <td>0.0</td>\n",
       "      <td>0</td>\n",
       "    </tr>\n",
       "    <tr>\n",
       "      <th>4</th>\n",
       "      <td>1.486457</td>\n",
       "      <td>-0.307045</td>\n",
       "      <td>-0.412446</td>\n",
       "      <td>-0.754370</td>\n",
       "      <td>-0.451942</td>\n",
       "      <td>0.852722</td>\n",
       "      <td>0.770562</td>\n",
       "      <td>-0.568924</td>\n",
       "      <td>0.736513</td>\n",
       "      <td>0.832220</td>\n",
       "      <td>...</td>\n",
       "      <td>0.0</td>\n",
       "      <td>1.0</td>\n",
       "      <td>1.0</td>\n",
       "      <td>0.0</td>\n",
       "      <td>0.0</td>\n",
       "      <td>1.0</td>\n",
       "      <td>0.0</td>\n",
       "      <td>1.0</td>\n",
       "      <td>0.0</td>\n",
       "      <td>0</td>\n",
       "    </tr>\n",
       "  </tbody>\n",
       "</table>\n",
       "<p>5 rows × 28 columns</p>\n",
       "</div>"
      ],
      "text/plain": [
       "        Age  Flight Distance  Inflight wifi service  \\\n",
       "0 -0.277804        -0.089306              -1.446976   \n",
       "1 -0.216967        -1.004828              -1.446976   \n",
       "2  1.668967        -0.408911               1.656614   \n",
       "3  0.999764         1.976030               0.622084   \n",
       "4  1.486457        -0.307045              -0.412446   \n",
       "\n",
       "   Departure/Arrival time convenient  Ease of Online booking  Gate location  \\\n",
       "0                          -0.754370               -0.451942      -0.812200   \n",
       "1                          -2.083373               -1.279667      -0.812200   \n",
       "2                          -0.754370                1.203508       0.852722   \n",
       "3                           1.239135                0.375783       0.020261   \n",
       "4                          -0.754370               -0.451942       0.852722   \n",
       "\n",
       "   Food and drink  Online boarding  Seat comfort  Inflight entertainment  ...  \\\n",
       "0        0.026713        -0.568924     -0.797232               -1.436397  ...   \n",
       "1       -1.460984        -1.438593     -1.564104               -1.436397  ...   \n",
       "2        0.770562         1.170413      0.736513                0.832220  ...   \n",
       "3        0.026713         0.300744      1.503385                0.832220  ...   \n",
       "4        0.770562        -0.568924      0.736513                0.832220  ...   \n",
       "\n",
       "   Gender_Female  Gender_Male  Customer Type_Loyal Customer  \\\n",
       "0            1.0          0.0                           1.0   \n",
       "1            1.0          0.0                           1.0   \n",
       "2            0.0          1.0                           1.0   \n",
       "3            1.0          0.0                           1.0   \n",
       "4            0.0          1.0                           1.0   \n",
       "\n",
       "   Customer Type_disloyal Customer  Type of Travel_Business travel  \\\n",
       "0                              0.0                             1.0   \n",
       "1                              0.0                             0.0   \n",
       "2                              0.0                             0.0   \n",
       "3                              0.0                             0.0   \n",
       "4                              0.0                             0.0   \n",
       "\n",
       "   Type of Travel_Personal Travel  Class_Business  Class_Eco  Class_Eco Plus  \\\n",
       "0                             0.0             1.0        0.0             0.0   \n",
       "1                             1.0             0.0        1.0             0.0   \n",
       "2                             1.0             0.0        0.0             1.0   \n",
       "3                             1.0             0.0        1.0             0.0   \n",
       "4                             1.0             0.0        1.0             0.0   \n",
       "\n",
       "   satisfaction  \n",
       "0             0  \n",
       "1             0  \n",
       "2             0  \n",
       "3             0  \n",
       "4             0  \n",
       "\n",
       "[5 rows x 28 columns]"
      ]
     },
     "execution_count": 10,
     "metadata": {},
     "output_type": "execute_result"
    }
   ],
   "source": [
    "train_df.head()"
   ]
  },
  {
   "cell_type": "code",
   "execution_count": 14,
   "metadata": {},
   "outputs": [],
   "source": [
    "X_train = train_df.drop(columns=['satisfaction']).values\n",
    "y_train = train_df['satisfaction'].values"
   ]
  },
  {
   "cell_type": "code",
   "execution_count": 15,
   "metadata": {},
   "outputs": [],
   "source": [
    "X_validation = validation_df.drop(columns=['satisfaction']).values\n",
    "y_validation = validation_df['satisfaction'].values"
   ]
  },
  {
   "cell_type": "markdown",
   "metadata": {},
   "source": [
    "## Transformando os dataframes en tensores"
   ]
  },
  {
   "cell_type": "code",
   "execution_count": 16,
   "metadata": {},
   "outputs": [],
   "source": [
    "train_input = torch.tensor(X_train, dtype=torch.float32)\n",
    "train_label = torch.tensor(y_train, dtype=torch.long)"
   ]
  },
  {
   "cell_type": "code",
   "execution_count": 17,
   "metadata": {},
   "outputs": [],
   "source": [
    "test_input = torch.tensor(X_validation, dtype=torch.float32)\n",
    "test_label = torch.tensor(y_validation, dtype=torch.long)"
   ]
  },
  {
   "cell_type": "code",
   "execution_count": 18,
   "metadata": {},
   "outputs": [],
   "source": [
    "dataset = {\n",
    "    'train_input': train_input,\n",
    "    'train_label': train_label,\n",
    "    'test_input': test_input,\n",
    "    'test_label': test_label\n",
    "}"
   ]
  },
  {
   "cell_type": "markdown",
   "metadata": {},
   "source": [
    "## Inicializando e treinando a rede KAN"
   ]
  },
  {
   "cell_type": "code",
   "execution_count": 19,
   "metadata": {},
   "outputs": [],
   "source": [
    "model = KAN(width=[X_train.shape[1], 2], grid=3, k=3)"
   ]
  },
  {
   "cell_type": "code",
   "execution_count": 20,
   "metadata": {},
   "outputs": [],
   "source": [
    "def train_acc():\n",
    "    return torch.mean((torch.argmax(model(dataset['train_input']), dim=1) == dataset['train_label']).float())\n",
    "\n",
    "def test_acc():\n",
    "    return torch.mean((torch.argmax(model(dataset['test_input']), dim=1) == dataset['test_label']).float())"
   ]
  },
  {
   "cell_type": "code",
   "execution_count": 21,
   "metadata": {},
   "outputs": [
    {
     "name": "stderr",
     "output_type": "stream",
     "text": [
      "train loss: 3.65e-01 | test loss: 3.84e-01 | reg: 7.24e+01 : 100%|██| 20/20 [06:24<00:00, 19.20s/it]\n"
     ]
    }
   ],
   "source": [
    "results = model.train(dataset, opt=\"LBFGS\", steps=20, metrics=(train_acc, test_acc), loss_fn=torch.nn.CrossEntropyLoss())"
   ]
  },
  {
   "cell_type": "markdown",
   "metadata": {},
   "source": [
    "Visualizando o modelo"
   ]
  },
  {
   "cell_type": "code",
   "execution_count": 22,
   "metadata": {},
   "outputs": [
    {
     "data": {
      "image/png": "[encoded data removed]",
      "text/plain": [
       "<Figure size 500x200 with 55 Axes>"
      ]
     },
     "metadata": {},
     "output_type": "display_data"
    }
   ],
   "source": [
    "model.plot()"
   ]
  },
  {
   "cell_type": "markdown",
   "metadata": {},
   "source": [
    "Resultados"
   ]
  },
  {
   "cell_type": "code",
   "execution_count": 23,
   "metadata": {},
   "outputs": [
    {
     "name": "stdout",
     "output_type": "stream",
     "text": [
      "Acurácia final no conjunto de treino: 0.9519\n",
      "Acurácia final no conjunto de teste: 0.9462\n"
     ]
    }
   ],
   "source": [
    "# Obter a acurácia final\n",
    "final_train_acc = results['train_acc'][-1]\n",
    "final_test_acc = results['test_acc'][-1]\n",
    "\n",
    "print(f\"Acurácia final no conjunto de treino: {final_train_acc:.4f}\")\n",
    "print(f\"Acurácia final no conjunto de teste: {final_test_acc:.4f}\")"
   ]
  },
  {
   "cell_type": "code",
   "execution_count": 37,
   "metadata": {},
   "outputs": [
    {
     "name": "stdout",
     "output_type": "stream",
     "text": [
      "MSE: 0.05378540305010893\n"
     ]
    }
   ],
   "source": [
    "# Calcular o MSE\n",
    "\n",
    "test_outputs = model(dataset['test_input'])\n",
    "test_predictions = torch.argmax(test_outputs, dim=1).numpy()\n",
    "\n",
    "mse = mean_squared_error(y_validation, test_predictions)\n",
    "print(f\"MSE: {mse}\")"
   ]
  },
  {
   "cell_type": "code",
   "execution_count": 41,
   "metadata": {},
   "outputs": [
    {
     "name": "stdout",
     "output_type": "stream",
     "text": [
      "Test Recall: 0.9512527233115469\n"
     ]
    }
   ],
   "source": [
    "# Calcular o Recall para o conjunto de teste\n",
    "test_recall = recall_score(y_validation, test_predictions)\n",
    "print(\"Test Recall:\", test_recall)"
   ]
  },
  {
   "cell_type": "code",
   "execution_count": 43,
   "metadata": {},
   "outputs": [
    {
     "name": "stdout",
     "output_type": "stream",
     "text": [
      "Test Precision: 0.9417632785117283\n"
     ]
    }
   ],
   "source": [
    "# Calcular a Precision para o conjunto de teste\n",
    "test_precision = precision_score(y_validation, test_predictions)\n",
    "print(\"Test Precision:\", test_precision)"
   ]
  },
  {
   "cell_type": "code",
   "execution_count": 44,
   "metadata": {},
   "outputs": [
    {
     "name": "stdout",
     "output_type": "stream",
     "text": [
      "Test F1-Score: 0.946484216230863\n"
     ]
    }
   ],
   "source": [
    "# Calcular o F1-Score para o conjunto de teste\n",
    "test_f1 = f1_score(y_validation, test_predictions)\n",
    "print(\"Test F1-Score:\", test_f1)"
   ]
  },
  {
   "cell_type": "code",
   "execution_count": 24,
   "metadata": {},
   "outputs": [
    {
     "data": {
      "image/png": "[encoded data removed]",
      "text/plain": [
       "<Figure size 640x480 with 1 Axes>"
      ]
     },
     "metadata": {},
     "output_type": "display_data"
    }
   ],
   "source": [
    "# Plotar os resultados de acurácia (opcional)\n",
    "plt.plot(results['train_acc'], label='Train Accuracy')\n",
    "plt.plot(results['test_acc'], label='Test Accuracy')\n",
    "plt.xlabel('Steps')\n",
    "plt.ylabel('Accuracy')\n",
    "plt.legend()\n",
    "plt.show()"
   ]
  },
  {
   "cell_type": "code",
   "execution_count": 27,
   "metadata": {},
   "outputs": [
    {
     "data": {
      "image/png": "[encoded data removed]",
      "text/plain": [
       "<Figure size 1000x700 with 2 Axes>"
      ]
     },
     "metadata": {},
     "output_type": "display_data"
    }
   ],
   "source": [
    "test_outputs = model(dataset['test_input'])\n",
    "test_predictions = torch.argmax(test_outputs, dim=1).numpy()\n",
    "\n",
    "conf_matrix = confusion_matrix(y_validation, test_predictions) # trocar por y_test\n",
    "conf_matrix_percent = conf_matrix / conf_matrix.sum(axis=1, keepdims=True) * 100\n",
    "\n",
    "annot_labels = [['{:.1f}%'.format(value) for value in row] for row in conf_matrix_percent]\n",
    "\n",
    "plt.figure(figsize=(10, 7))\n",
    "sns.heatmap(conf_matrix, annot=annot_labels, fmt='', cmap='Blues')\n",
    "\n",
    "plt.xlabel('Predicted')\n",
    "plt.ylabel('True')\n",
    "plt.title('Confusion Matrix')\n",
    "\n",
    "plt.show()"
   ]
  },
  {
   "cell_type": "code",
   "execution_count": 28,
   "metadata": {},
   "outputs": [
    {
     "data": {
      "image/png": "[encoded data removed]",
      "text/plain": [
       "<Figure size 640x480 with 1 Axes>"
      ]
     },
     "metadata": {},
     "output_type": "display_data"
    }
   ],
   "source": [
    "test_probs = torch.softmax(test_outputs, dim=1).detach().numpy()\n",
    "fpr, tpr, _ = roc_curve(y_validation, test_probs[:, 1])\n",
    "roc_auc = auc(fpr, tpr)\n",
    "\n",
    "plt.figure()\n",
    "plt.plot(fpr, tpr, color='darkorange', lw=2, label=f'ROC curve (area = {roc_auc:.2f})')\n",
    "plt.plot([0, 1], [0, 1], color='navy', lw=2, linestyle='--')\n",
    "plt.xlim([0.0, 1.0])\n",
    "plt.ylim([0.0, 1.05])\n",
    "plt.xlabel('False Positive Rate')\n",
    "plt.ylabel('True Positive Rate')\n",
    "plt.title('Receiver Operating Characteristic (ROC) Curve')\n",
    "plt.legend(loc='lower right')\n",
    "plt.show()"
   ]
  },
  {
   "cell_type": "code",
   "execution_count": 29,
   "metadata": {},
   "outputs": [
    {
     "data": {
      "image/png": "[encoded data removed]",
      "text/plain": [
       "<Figure size 640x480 with 1 Axes>"
      ]
     },
     "metadata": {},
     "output_type": "display_data"
    },
    {
     "name": "stdout",
     "output_type": "stream",
     "text": [
      "KS Statistic: 0.89\n"
     ]
    }
   ],
   "source": [
    "ks_statistic = np.max(tpr - fpr)\n",
    "ks_idx = np.argmax(tpr - fpr)\n",
    "plt.figure()\n",
    "plt.plot(fpr, tpr, label='True Positive Rate (TPR)')\n",
    "plt.plot(fpr, fpr, label='False Positive Rate (FPR)')\n",
    "plt.plot([fpr[ks_idx]], [tpr[ks_idx]], marker='o', markersize=5, color=\"red\")\n",
    "plt.text(fpr[ks_idx], tpr[ks_idx], f'KS={ks_statistic:.2f}', fontsize=12, verticalalignment='top')\n",
    "plt.xlabel('False Positive Rate')\n",
    "plt.ylabel('Rate')\n",
    "plt.title('Kolmogorov-Smirnov (KS) Curve')\n",
    "plt.legend(loc='best')\n",
    "plt.show()\n",
    "\n",
    "print(f\"KS Statistic: {ks_statistic:.2f}\")"
   ]
  },
  {
   "cell_type": "markdown",
   "metadata": {},
   "source": [
    "## Grid Search"
   ]
  },
  {
   "cell_type": "code",
   "execution_count": 45,
   "metadata": {},
   "outputs": [],
   "source": [
    "def train_and_evaluate_model(width, grid, k, steps, opt):\n",
    "    model = KAN(width=width, grid=grid, k=k)\n",
    "\n",
    "    # Funções de avaliação\n",
    "    def train_acc():\n",
    "        return torch.mean((torch.argmax(model(dataset['train_input']), dim=1) == dataset['train_label']).float())\n",
    "\n",
    "    def test_acc():\n",
    "        return torch.mean((torch.argmax(model(dataset['test_input']), dim=1) == dataset['test_label']).float())\n",
    "\n",
    "    results = model.train(dataset, opt=opt, steps=steps, metrics=(train_acc, test_acc), loss_fn=torch.nn.CrossEntropyLoss())\n",
    "    final_train_acc = results['train_acc'][-1]\n",
    "    final_test_acc = results['test_acc'][-1]\n",
    "    return final_train_acc, final_test_acc"
   ]
  },
  {
   "cell_type": "markdown",
   "metadata": {},
   "source": [
    "Definindo a grade de busca"
   ]
  },
  {
   "cell_type": "code",
   "execution_count": 46,
   "metadata": {},
   "outputs": [],
   "source": [
    "param_grid = {\n",
    "    'width': [[X_train.shape[1], 2]],\n",
    "    'grid': [2, 3, 4],\n",
    "    'k': [2, 3, 4],\n",
    "    'steps': [10, 20, 30, 50, 100],\n",
    "    'opt' : ['LBFGS', 'Adam']\n",
    "}"
   ]
  },
  {
   "cell_type": "code",
   "execution_count": 48,
   "metadata": {},
   "outputs": [
    {
     "name": "stderr",
     "output_type": "stream",
     "text": [
      "train loss: 4.73e-01 | test loss: 4.81e-01 | reg: 3.24e+01 : 100%|██| 10/10 [01:42<00:00, 10.22s/it]\n"
     ]
    },
    {
     "name": "stdout",
     "output_type": "stream",
     "text": [
      "Width: [27, 2], Grid: 2, K: 2, Steps: 10, Train Acc: 0.9169, Test Acc: 0.9137\n"
     ]
    },
    {
     "name": "stderr",
     "output_type": "stream",
     "text": [
      "train loss: 4.61e-01 | test loss: 4.67e-01 | reg: 4.93e+01 : 100%|██| 20/20 [03:27<00:00, 10.36s/it]\n"
     ]
    },
    {
     "name": "stdout",
     "output_type": "stream",
     "text": [
      "Width: [27, 2], Grid: 2, K: 2, Steps: 20, Train Acc: 0.9224, Test Acc: 0.9192\n"
     ]
    },
    {
     "name": "stderr",
     "output_type": "stream",
     "text": [
      "train loss: 4.45e-01 | test loss: 4.53e-01 | reg: 4.84e+01 : 100%|██| 30/30 [05:01<00:00, 10.06s/it]\n"
     ]
    },
    {
     "name": "stdout",
     "output_type": "stream",
     "text": [
      "Width: [27, 2], Grid: 2, K: 2, Steps: 30, Train Acc: 0.9245, Test Acc: 0.9217\n"
     ]
    },
    {
     "name": "stderr",
     "output_type": "stream",
     "text": [
      "train loss: 4.43e-01 | test loss: 4.52e-01 | reg: 6.68e+01 : 100%|██| 50/50 [08:20<00:00, 10.02s/it]\n"
     ]
    },
    {
     "name": "stdout",
     "output_type": "stream",
     "text": [
      "Width: [27, 2], Grid: 2, K: 2, Steps: 50, Train Acc: 0.9248, Test Acc: 0.9203\n"
     ]
    },
    {
     "name": "stderr",
     "output_type": "stream",
     "text": [
      "train loss: 4.36e-01 | test loss: 4.46e-01 | reg: 6.00e+01 : 100%|█| 100/100 [16:44<00:00, 10.04s/it\n"
     ]
    },
    {
     "name": "stdout",
     "output_type": "stream",
     "text": [
      "Width: [27, 2], Grid: 2, K: 2, Steps: 100, Train Acc: 0.9278, Test Acc: 0.9237\n"
     ]
    },
    {
     "name": "stderr",
     "output_type": "stream",
     "text": [
      "train loss: 1.70e+00 | test loss: 1.55e+00 | reg: 4.35e+01 : 100%|██| 10/10 [00:13<00:00,  1.40s/it]\n"
     ]
    },
    {
     "name": "stdout",
     "output_type": "stream",
     "text": [
      "Width: [27, 2], Grid: 2, K: 2, Steps: 10, Train Acc: 0.7705, Test Acc: 0.7699\n"
     ]
    },
    {
     "name": "stderr",
     "output_type": "stream",
     "text": [
      "train loss: 1.12e+00 | test loss: 1.03e+00 | reg: 4.42e+01 : 100%|██| 20/20 [00:22<00:00,  1.14s/it]\n"
     ]
    },
    {
     "name": "stdout",
     "output_type": "stream",
     "text": [
      "Width: [27, 2], Grid: 2, K: 2, Steps: 20, Train Acc: 0.8178, Test Acc: 0.8146\n"
     ]
    },
    {
     "name": "stderr",
     "output_type": "stream",
     "text": [
      "train loss: 8.71e-01 | test loss: 7.84e-01 | reg: 3.88e+01 : 100%|██| 30/30 [00:34<00:00,  1.15s/it]\n"
     ]
    },
    {
     "name": "stdout",
     "output_type": "stream",
     "text": [
      "Width: [27, 2], Grid: 2, K: 2, Steps: 30, Train Acc: 0.8381, Test Acc: 0.8348\n"
     ]
    },
    {
     "name": "stderr",
     "output_type": "stream",
     "text": [
      "train loss: 5.82e-01 | test loss: 6.17e-01 | reg: 3.46e+01 : 100%|██| 50/50 [00:57<00:00,  1.15s/it]\n"
     ]
    },
    {
     "name": "stdout",
     "output_type": "stream",
     "text": [
      "Width: [27, 2], Grid: 2, K: 2, Steps: 50, Train Acc: 0.8579, Test Acc: 0.8532\n"
     ]
    },
    {
     "name": "stderr",
     "output_type": "stream",
     "text": [
      "train loss: 5.64e-01 | test loss: 5.44e-01 | reg: 2.96e+01 : 100%|█| 100/100 [01:46<00:00,  1.07s/it\n"
     ]
    },
    {
     "name": "stdout",
     "output_type": "stream",
     "text": [
      "Width: [27, 2], Grid: 2, K: 2, Steps: 100, Train Acc: 0.8932, Test Acc: 0.8904\n"
     ]
    },
    {
     "name": "stderr",
     "output_type": "stream",
     "text": [
      "train loss: 4.24e-01 | test loss: 4.33e-01 | reg: 3.79e+01 : 100%|██| 10/10 [02:30<00:00, 15.04s/it]\n"
     ]
    },
    {
     "name": "stdout",
     "output_type": "stream",
     "text": [
      "Width: [27, 2], Grid: 2, K: 3, Steps: 10, Train Acc: 0.9312, Test Acc: 0.9281\n"
     ]
    },
    {
     "name": "stderr",
     "output_type": "stream",
     "text": [
      "train loss: 4.17e-01 | test loss: 4.28e-01 | reg: 3.86e+01 : 100%|██| 20/20 [05:01<00:00, 15.09s/it]\n"
     ]
    },
    {
     "name": "stdout",
     "output_type": "stream",
     "text": [
      "Width: [27, 2], Grid: 2, K: 3, Steps: 20, Train Acc: 0.9336, Test Acc: 0.9295\n"
     ]
    },
    {
     "name": "stderr",
     "output_type": "stream",
     "text": [
      "train loss: 4.00e-01 | test loss: 4.11e-01 | reg: 5.83e+01 : 100%|██| 30/30 [07:35<00:00, 15.17s/it]\n"
     ]
    },
    {
     "name": "stdout",
     "output_type": "stream",
     "text": [
      "Width: [27, 2], Grid: 2, K: 3, Steps: 30, Train Acc: 0.9401, Test Acc: 0.9357\n"
     ]
    },
    {
     "name": "stderr",
     "output_type": "stream",
     "text": [
      "train loss: 3.72e-01 | test loss: 3.83e-01 | reg: 1.07e+02 : 100%|██| 50/50 [12:46<00:00, 15.33s/it]\n"
     ]
    },
    {
     "name": "stdout",
     "output_type": "stream",
     "text": [
      "Width: [27, 2], Grid: 2, K: 3, Steps: 50, Train Acc: 0.9491, Test Acc: 0.9449\n"
     ]
    },
    {
     "name": "stderr",
     "output_type": "stream",
     "text": [
      "train loss: 3.53e-01 | test loss: 3.65e-01 | reg: 1.37e+02 : 100%|█| 100/100 [25:15<00:00, 15.15s/it\n"
     ]
    },
    {
     "name": "stdout",
     "output_type": "stream",
     "text": [
      "Width: [27, 2], Grid: 2, K: 3, Steps: 100, Train Acc: 0.9547, Test Acc: 0.9509\n"
     ]
    },
    {
     "name": "stderr",
     "output_type": "stream",
     "text": [
      "train loss: 1.23e+00 | test loss: 1.94e+00 | reg: 4.00e+01 : 100%|██| 10/10 [00:17<00:00,  1.80s/it]\n"
     ]
    },
    {
     "name": "stdout",
     "output_type": "stream",
     "text": [
      "Width: [27, 2], Grid: 2, K: 3, Steps: 10, Train Acc: 0.6105, Test Acc: 0.6100\n"
     ]
    },
    {
     "name": "stderr",
     "output_type": "stream",
     "text": [
      "train loss: 1.22e+00 | test loss: 1.01e+00 | reg: 4.11e+01 : 100%|██| 20/20 [00:36<00:00,  1.80s/it]\n"
     ]
    },
    {
     "name": "stdout",
     "output_type": "stream",
     "text": [
      "Width: [27, 2], Grid: 2, K: 3, Steps: 20, Train Acc: 0.8259, Test Acc: 0.8197\n"
     ]
    },
    {
     "name": "stderr",
     "output_type": "stream",
     "text": [
      "train loss: 6.76e-01 | test loss: 7.67e-01 | reg: 3.68e+01 : 100%|██| 30/30 [00:54<00:00,  1.81s/it]\n"
     ]
    },
    {
     "name": "stdout",
     "output_type": "stream",
     "text": [
      "Width: [27, 2], Grid: 2, K: 3, Steps: 30, Train Acc: 0.8204, Test Acc: 0.8161\n"
     ]
    },
    {
     "name": "stderr",
     "output_type": "stream",
     "text": [
      "train loss: 6.46e-01 | test loss: 5.69e-01 | reg: 3.31e+01 : 100%|██| 50/50 [01:30<00:00,  1.81s/it]\n"
     ]
    },
    {
     "name": "stdout",
     "output_type": "stream",
     "text": [
      "Width: [27, 2], Grid: 2, K: 3, Steps: 50, Train Acc: 0.8731, Test Acc: 0.8716\n"
     ]
    },
    {
     "name": "stderr",
     "output_type": "stream",
     "text": [
      "train loss: 4.65e-01 | test loss: 4.70e-01 | reg: 2.88e+01 : 100%|█| 100/100 [02:45<00:00,  1.65s/it\n"
     ]
    },
    {
     "name": "stdout",
     "output_type": "stream",
     "text": [
      "Width: [27, 2], Grid: 2, K: 3, Steps: 100, Train Acc: 0.9168, Test Acc: 0.9164\n"
     ]
    },
    {
     "name": "stderr",
     "output_type": "stream",
     "text": [
      "train loss: 4.65e-01 | test loss: 4.73e-01 | reg: 3.17e+01 : 100%|██| 10/10 [03:46<00:00, 22.64s/it]\n"
     ]
    },
    {
     "name": "stdout",
     "output_type": "stream",
     "text": [
      "Width: [27, 2], Grid: 2, K: 4, Steps: 10, Train Acc: 0.9184, Test Acc: 0.9157\n"
     ]
    },
    {
     "name": "stderr",
     "output_type": "stream",
     "text": [
      "train loss: 4.44e-01 | test loss: 4.51e-01 | reg: 5.78e+01 : 100%|██| 20/20 [07:32<00:00, 22.63s/it]\n"
     ]
    },
    {
     "name": "stdout",
     "output_type": "stream",
     "text": [
      "Width: [27, 2], Grid: 2, K: 4, Steps: 20, Train Acc: 0.9254, Test Acc: 0.9238\n"
     ]
    },
    {
     "name": "stderr",
     "output_type": "stream",
     "text": [
      "train loss: 4.64e-01 | test loss: 4.71e-01 | reg: 7.02e+01 : 100%|██| 30/30 [12:22<00:00, 24.76s/it]\n"
     ]
    },
    {
     "name": "stdout",
     "output_type": "stream",
     "text": [
      "Width: [27, 2], Grid: 2, K: 4, Steps: 30, Train Acc: 0.9167, Test Acc: 0.9128\n"
     ]
    },
    {
     "name": "stderr",
     "output_type": "stream",
     "text": [
      "train loss: 4.44e-01 | test loss: 4.52e-01 | reg: 1.28e+02 : 100%|██| 50/50 [19:29<00:00, 23.38s/it]\n"
     ]
    },
    {
     "name": "stdout",
     "output_type": "stream",
     "text": [
      "Width: [27, 2], Grid: 2, K: 4, Steps: 50, Train Acc: 0.9226, Test Acc: 0.9214\n"
     ]
    },
    {
     "name": "stderr",
     "output_type": "stream",
     "text": [
      "train loss: 3.71e-01 | test loss: 3.84e-01 | reg: 2.21e+02 : 100%|█| 100/100 [38:26<00:00, 23.07s/it\n"
     ]
    },
    {
     "name": "stdout",
     "output_type": "stream",
     "text": [
      "Width: [27, 2], Grid: 2, K: 4, Steps: 100, Train Acc: 0.9481, Test Acc: 0.9457\n"
     ]
    },
    {
     "name": "stderr",
     "output_type": "stream",
     "text": [
      "train loss: 2.17e+00 | test loss: 1.77e+00 | reg: 4.00e+01 : 100%|██| 10/10 [00:27<00:00,  2.80s/it]\n"
     ]
    },
    {
     "name": "stdout",
     "output_type": "stream",
     "text": [
      "Width: [27, 2], Grid: 2, K: 4, Steps: 10, Train Acc: 0.7296, Test Acc: 0.7273\n"
     ]
    },
    {
     "name": "stderr",
     "output_type": "stream",
     "text": [
      "train loss: 1.23e+00 | test loss: 1.13e+00 | reg: 3.50e+01 : 100%|██| 20/20 [00:55<00:00,  2.78s/it]\n"
     ]
    },
    {
     "name": "stdout",
     "output_type": "stream",
     "text": [
      "Width: [27, 2], Grid: 2, K: 4, Steps: 20, Train Acc: 0.8030, Test Acc: 0.8025\n"
     ]
    },
    {
     "name": "stderr",
     "output_type": "stream",
     "text": [
      "train loss: 8.21e-01 | test loss: 9.10e-01 | reg: 3.28e+01 : 100%|██| 30/30 [01:23<00:00,  2.78s/it]\n"
     ]
    },
    {
     "name": "stdout",
     "output_type": "stream",
     "text": [
      "Width: [27, 2], Grid: 2, K: 4, Steps: 30, Train Acc: 0.7860, Test Acc: 0.7817\n"
     ]
    },
    {
     "name": "stderr",
     "output_type": "stream",
     "text": [
      "train loss: 7.26e-01 | test loss: 6.04e-01 | reg: 3.05e+01 : 100%|██| 50/50 [02:18<00:00,  2.77s/it]\n"
     ]
    },
    {
     "name": "stdout",
     "output_type": "stream",
     "text": [
      "Width: [27, 2], Grid: 2, K: 4, Steps: 50, Train Acc: 0.8682, Test Acc: 0.8656\n"
     ]
    },
    {
     "name": "stderr",
     "output_type": "stream",
     "text": [
      "train loss: 5.11e-01 | test loss: 5.15e-01 | reg: 2.76e+01 : 100%|█| 100/100 [04:13<00:00,  2.54s/it\n"
     ]
    },
    {
     "name": "stdout",
     "output_type": "stream",
     "text": [
      "Width: [27, 2], Grid: 2, K: 4, Steps: 100, Train Acc: 0.8983, Test Acc: 0.8968\n"
     ]
    },
    {
     "name": "stderr",
     "output_type": "stream",
     "text": [
      "train loss: 3.72e-01 | test loss: 3.82e-01 | reg: 3.08e+01 : 100%|██| 10/10 [08:31<00:00, 51.18s/it]\n"
     ]
    },
    {
     "name": "stdout",
     "output_type": "stream",
     "text": [
      "Width: [27, 2], Grid: 3, K: 2, Steps: 10, Train Acc: 0.9497, Test Acc: 0.9468\n"
     ]
    },
    {
     "name": "stderr",
     "output_type": "stream",
     "text": [
      "train loss: 3.34e-01 | test loss: 3.48e-01 | reg: 5.41e+01 : 100%|██| 20/20 [03:54<00:00, 11.75s/it]\n"
     ]
    },
    {
     "name": "stdout",
     "output_type": "stream",
     "text": [
      "Width: [27, 2], Grid: 3, K: 2, Steps: 20, Train Acc: 0.9606, Test Acc: 0.9580\n"
     ]
    },
    {
     "name": "stderr",
     "output_type": "stream",
     "text": [
      "train loss: 3.23e-01 | test loss: 3.36e-01 | reg: 5.24e+01 : 100%|██| 30/30 [05:50<00:00, 11.69s/it]\n"
     ]
    },
    {
     "name": "stdout",
     "output_type": "stream",
     "text": [
      "Width: [27, 2], Grid: 3, K: 2, Steps: 30, Train Acc: 0.9644, Test Acc: 0.9615\n"
     ]
    },
    {
     "name": "stderr",
     "output_type": "stream",
     "text": [
      "train loss: 3.19e-01 | test loss: 3.34e-01 | reg: 5.17e+01 : 100%|██| 50/50 [09:35<00:00, 11.52s/it]\n"
     ]
    },
    {
     "name": "stdout",
     "output_type": "stream",
     "text": [
      "Width: [27, 2], Grid: 3, K: 2, Steps: 50, Train Acc: 0.9652, Test Acc: 0.9621\n"
     ]
    },
    {
     "name": "stderr",
     "output_type": "stream",
     "text": [
      "train loss: 3.07e-01 | test loss: 3.21e-01 | reg: 9.86e+01 : 100%|█| 100/100 [19:52<00:00, 11.93s/it\n"
     ]
    },
    {
     "name": "stdout",
     "output_type": "stream",
     "text": [
      "Width: [27, 2], Grid: 3, K: 2, Steps: 100, Train Acc: 0.9674, Test Acc: 0.9645\n"
     ]
    },
    {
     "name": "stderr",
     "output_type": "stream",
     "text": [
      "train loss: 1.33e+00 | test loss: 2.10e+00 | reg: 4.92e+01 : 100%|██| 10/10 [00:14<00:00,  1.41s/it]\n"
     ]
    },
    {
     "name": "stdout",
     "output_type": "stream",
     "text": [
      "Width: [27, 2], Grid: 3, K: 2, Steps: 10, Train Acc: 0.6108, Test Acc: 0.6116\n"
     ]
    },
    {
     "name": "stderr",
     "output_type": "stream",
     "text": [
      "train loss: 1.07e+00 | test loss: 1.03e+00 | reg: 4.30e+01 : 100%|██| 20/20 [00:27<00:00,  1.36s/it]\n"
     ]
    },
    {
     "name": "stdout",
     "output_type": "stream",
     "text": [
      "Width: [27, 2], Grid: 3, K: 2, Steps: 20, Train Acc: 0.8442, Test Acc: 0.8429\n"
     ]
    },
    {
     "name": "stderr",
     "output_type": "stream",
     "text": [
      "train loss: 7.69e-01 | test loss: 6.63e-01 | reg: 3.78e+01 : 100%|██| 30/30 [00:40<00:00,  1.36s/it]\n"
     ]
    },
    {
     "name": "stdout",
     "output_type": "stream",
     "text": [
      "Width: [27, 2], Grid: 3, K: 2, Steps: 30, Train Acc: 0.8897, Test Acc: 0.8862\n"
     ]
    },
    {
     "name": "stderr",
     "output_type": "stream",
     "text": [
      "train loss: 4.63e-01 | test loss: 4.78e-01 | reg: 3.47e+01 : 100%|██| 50/50 [01:09<00:00,  1.39s/it]\n"
     ]
    },
    {
     "name": "stdout",
     "output_type": "stream",
     "text": [
      "Width: [27, 2], Grid: 3, K: 2, Steps: 50, Train Acc: 0.9205, Test Acc: 0.9165\n"
     ]
    },
    {
     "name": "stderr",
     "output_type": "stream",
     "text": [
      "train loss: 4.01e-01 | test loss: 4.08e-01 | reg: 3.31e+01 : 100%|█| 100/100 [02:12<00:00,  1.32s/it\n"
     ]
    },
    {
     "name": "stdout",
     "output_type": "stream",
     "text": [
      "Width: [27, 2], Grid: 3, K: 2, Steps: 100, Train Acc: 0.9397, Test Acc: 0.9374\n"
     ]
    },
    {
     "name": "stderr",
     "output_type": "stream",
     "text": [
      "train loss: 3.88e-01 | test loss: 4.00e-01 | reg: 3.13e+01 : 100%|██| 10/10 [03:05<00:00, 18.51s/it]\n"
     ]
    },
    {
     "name": "stdout",
     "output_type": "stream",
     "text": [
      "Width: [27, 2], Grid: 3, K: 3, Steps: 10, Train Acc: 0.9434, Test Acc: 0.9391\n"
     ]
    },
    {
     "name": "stderr",
     "output_type": "stream",
     "text": [
      "train loss: 3.65e-01 | test loss: 3.82e-01 | reg: 5.45e+01 : 100%|██| 20/20 [06:13<00:00, 18.65s/it]\n"
     ]
    },
    {
     "name": "stdout",
     "output_type": "stream",
     "text": [
      "Width: [27, 2], Grid: 3, K: 3, Steps: 20, Train Acc: 0.9512, Test Acc: 0.9462\n"
     ]
    },
    {
     "name": "stderr",
     "output_type": "stream",
     "text": [
      "train loss: 3.48e-01 | test loss: 3.76e-01 | reg: 1.31e+02 : 100%|██| 30/30 [08:38<00:00, 17.27s/it]\n"
     ]
    },
    {
     "name": "stdout",
     "output_type": "stream",
     "text": [
      "Width: [27, 2], Grid: 3, K: 3, Steps: 30, Train Acc: 0.9590, Test Acc: 0.9548\n"
     ]
    },
    {
     "name": "stderr",
     "output_type": "stream",
     "text": [
      "train loss: 3.33e-01 | test loss: 3.59e-01 | reg: 1.47e+02 : 100%|██| 50/50 [14:50<00:00, 17.82s/it]\n"
     ]
    },
    {
     "name": "stdout",
     "output_type": "stream",
     "text": [
      "Width: [27, 2], Grid: 3, K: 3, Steps: 50, Train Acc: 0.9621, Test Acc: 0.9581\n"
     ]
    },
    {
     "name": "stderr",
     "output_type": "stream",
     "text": [
      "train loss: 2.82e-01 | test loss: 3.03e-01 | reg: 2.84e+02 : 100%|█| 100/100 [29:14<00:00, 17.54s/it\n"
     ]
    },
    {
     "name": "stdout",
     "output_type": "stream",
     "text": [
      "Width: [27, 2], Grid: 3, K: 3, Steps: 100, Train Acc: 0.9728, Test Acc: 0.9699\n"
     ]
    },
    {
     "name": "stderr",
     "output_type": "stream",
     "text": [
      "train loss: 1.83e+00 | test loss: 1.63e+00 | reg: 5.30e+01 : 100%|██| 10/10 [00:21<00:00,  2.11s/it]\n"
     ]
    },
    {
     "name": "stdout",
     "output_type": "stream",
     "text": [
      "Width: [27, 2], Grid: 3, K: 3, Steps: 10, Train Acc: 0.7719, Test Acc: 0.7711\n"
     ]
    },
    {
     "name": "stderr",
     "output_type": "stream",
     "text": [
      "train loss: 1.45e+00 | test loss: 1.18e+00 | reg: 4.36e+01 : 100%|██| 20/20 [00:41<00:00,  2.09s/it]\n"
     ]
    },
    {
     "name": "stdout",
     "output_type": "stream",
     "text": [
      "Width: [27, 2], Grid: 3, K: 3, Steps: 20, Train Acc: 0.8484, Test Acc: 0.8434\n"
     ]
    },
    {
     "name": "stderr",
     "output_type": "stream",
     "text": [
      "train loss: 9.82e-01 | test loss: 9.43e-01 | reg: 3.61e+01 : 100%|██| 30/30 [01:02<00:00,  2.09s/it]\n"
     ]
    },
    {
     "name": "stdout",
     "output_type": "stream",
     "text": [
      "Width: [27, 2], Grid: 3, K: 3, Steps: 30, Train Acc: 0.8205, Test Acc: 0.8194\n"
     ]
    },
    {
     "name": "stderr",
     "output_type": "stream",
     "text": [
      "train loss: 5.75e-01 | test loss: 6.10e-01 | reg: 3.34e+01 : 100%|██| 50/50 [01:46<00:00,  2.13s/it]\n"
     ]
    },
    {
     "name": "stdout",
     "output_type": "stream",
     "text": [
      "Width: [27, 2], Grid: 3, K: 3, Steps: 50, Train Acc: 0.8838, Test Acc: 0.8794\n"
     ]
    },
    {
     "name": "stderr",
     "output_type": "stream",
     "text": [
      "train loss: 4.32e-01 | test loss: 4.40e-01 | reg: 2.92e+01 : 100%|█| 100/100 [03:33<00:00,  2.14s/it\n"
     ]
    },
    {
     "name": "stdout",
     "output_type": "stream",
     "text": [
      "Width: [27, 2], Grid: 3, K: 3, Steps: 100, Train Acc: 0.9299, Test Acc: 0.9248\n"
     ]
    },
    {
     "name": "stderr",
     "output_type": "stream",
     "text": [
      "train loss: 3.86e-01 | test loss: 3.96e-01 | reg: 3.01e+01 : 100%|██| 10/10 [04:41<00:00, 28.17s/it]\n"
     ]
    },
    {
     "name": "stdout",
     "output_type": "stream",
     "text": [
      "Width: [27, 2], Grid: 3, K: 4, Steps: 10, Train Acc: 0.9448, Test Acc: 0.9416\n"
     ]
    },
    {
     "name": "stderr",
     "output_type": "stream",
     "text": [
      "train loss: 4.20e-01 | test loss: 4.31e-01 | reg: 3.00e+01 : 100%|██| 20/20 [09:29<00:00, 28.45s/it]\n"
     ]
    },
    {
     "name": "stdout",
     "output_type": "stream",
     "text": [
      "Width: [27, 2], Grid: 3, K: 4, Steps: 20, Train Acc: 0.9323, Test Acc: 0.9288\n"
     ]
    },
    {
     "name": "stderr",
     "output_type": "stream",
     "text": [
      "train loss: 4.04e-01 | test loss: 4.17e-01 | reg: 3.35e+01 : 100%|██| 30/30 [13:48<00:00, 27.61s/it]\n"
     ]
    },
    {
     "name": "stdout",
     "output_type": "stream",
     "text": [
      "Width: [27, 2], Grid: 3, K: 4, Steps: 30, Train Acc: 0.9383, Test Acc: 0.9343\n"
     ]
    },
    {
     "name": "stderr",
     "output_type": "stream",
     "text": [
      "train loss: 4.18e-01 | test loss: 4.30e-01 | reg: 4.19e+01 : 100%|██| 50/50 [23:11<00:00, 27.83s/it]\n"
     ]
    },
    {
     "name": "stdout",
     "output_type": "stream",
     "text": [
      "Width: [27, 2], Grid: 3, K: 4, Steps: 50, Train Acc: 0.9350, Test Acc: 0.9300\n"
     ]
    },
    {
     "name": "stderr",
     "output_type": "stream",
     "text": [
      "train loss: 3.08e-01 | test loss: 3.24e-01 | reg: 9.12e+01 : 100%|█| 100/100 [48:24<00:00, 29.05s/it\n"
     ]
    },
    {
     "name": "stdout",
     "output_type": "stream",
     "text": [
      "Width: [27, 2], Grid: 3, K: 4, Steps: 100, Train Acc: 0.9652, Test Acc: 0.9614\n"
     ]
    },
    {
     "name": "stderr",
     "output_type": "stream",
     "text": [
      "train loss: 2.56e+00 | test loss: 2.28e+00 | reg: 5.36e+01 : 100%|██| 10/10 [00:34<00:00,  3.42s/it]\n"
     ]
    },
    {
     "name": "stdout",
     "output_type": "stream",
     "text": [
      "Width: [27, 2], Grid: 3, K: 4, Steps: 10, Train Acc: 0.5592, Test Acc: 0.5597\n"
     ]
    },
    {
     "name": "stderr",
     "output_type": "stream",
     "text": [
      "train loss: 1.27e+00 | test loss: 1.14e+00 | reg: 5.34e+01 : 100%|██| 20/20 [01:11<00:00,  3.55s/it]\n"
     ]
    },
    {
     "name": "stdout",
     "output_type": "stream",
     "text": [
      "Width: [27, 2], Grid: 3, K: 4, Steps: 20, Train Acc: 0.8580, Test Acc: 0.8560\n"
     ]
    },
    {
     "name": "stderr",
     "output_type": "stream",
     "text": [
      "train loss: 8.74e-01 | test loss: 7.84e-01 | reg: 4.41e+01 : 100%|██| 30/30 [01:43<00:00,  3.45s/it]\n"
     ]
    },
    {
     "name": "stdout",
     "output_type": "stream",
     "text": [
      "Width: [27, 2], Grid: 3, K: 4, Steps: 30, Train Acc: 0.8659, Test Acc: 0.8624\n"
     ]
    },
    {
     "name": "stderr",
     "output_type": "stream",
     "text": [
      "train loss: 5.85e-01 | test loss: 5.96e-01 | reg: 4.24e+01 : 100%|██| 50/50 [02:57<00:00,  3.54s/it]\n"
     ]
    },
    {
     "name": "stdout",
     "output_type": "stream",
     "text": [
      "Width: [27, 2], Grid: 3, K: 4, Steps: 50, Train Acc: 0.8805, Test Acc: 0.8764\n"
     ]
    },
    {
     "name": "stderr",
     "output_type": "stream",
     "text": [
      "train loss: 5.08e-01 | test loss: 4.74e-01 | reg: 3.63e+01 : 100%|█| 100/100 [05:37<00:00,  3.38s/it\n"
     ]
    },
    {
     "name": "stdout",
     "output_type": "stream",
     "text": [
      "Width: [27, 2], Grid: 3, K: 4, Steps: 100, Train Acc: 0.9166, Test Acc: 0.9138\n"
     ]
    },
    {
     "name": "stderr",
     "output_type": "stream",
     "text": [
      "train loss: 3.33e-01 | test loss: 3.51e-01 | reg: 4.01e+01 : 100%|██| 10/10 [02:33<00:00, 15.38s/it]\n"
     ]
    },
    {
     "name": "stdout",
     "output_type": "stream",
     "text": [
      "Width: [27, 2], Grid: 4, K: 2, Steps: 10, Train Acc: 0.9602, Test Acc: 0.9551\n"
     ]
    },
    {
     "name": "stderr",
     "output_type": "stream",
     "text": [
      "train loss: 3.01e-01 | test loss: 3.13e-01 | reg: 9.21e+01 : 100%|██| 20/20 [05:02<00:00, 15.14s/it]\n"
     ]
    },
    {
     "name": "stdout",
     "output_type": "stream",
     "text": [
      "Width: [27, 2], Grid: 4, K: 2, Steps: 20, Train Acc: 0.9691, Test Acc: 0.9669\n"
     ]
    },
    {
     "name": "stderr",
     "output_type": "stream",
     "text": [
      "train loss: 2.90e-01 | test loss: 2.99e-01 | reg: 1.21e+02 : 100%|██| 30/30 [06:35<00:00, 13.19s/it]\n"
     ]
    },
    {
     "name": "stdout",
     "output_type": "stream",
     "text": [
      "Width: [27, 2], Grid: 4, K: 2, Steps: 30, Train Acc: 0.9716, Test Acc: 0.9701\n"
     ]
    },
    {
     "name": "stderr",
     "output_type": "stream",
     "text": [
      "train loss: 2.87e-01 | test loss: 2.97e-01 | reg: 1.29e+02 : 100%|██| 50/50 [10:52<00:00, 13.05s/it]\n"
     ]
    },
    {
     "name": "stdout",
     "output_type": "stream",
     "text": [
      "Width: [27, 2], Grid: 4, K: 2, Steps: 50, Train Acc: 0.9716, Test Acc: 0.9697\n"
     ]
    },
    {
     "name": "stderr",
     "output_type": "stream",
     "text": [
      "train loss: 2.85e-01 | test loss: 2.96e-01 | reg: 1.42e+02 : 100%|█| 100/100 [22:04<00:00, 13.24s/it\n"
     ]
    },
    {
     "name": "stdout",
     "output_type": "stream",
     "text": [
      "Width: [27, 2], Grid: 4, K: 2, Steps: 100, Train Acc: 0.9713, Test Acc: 0.9691\n"
     ]
    },
    {
     "name": "stderr",
     "output_type": "stream",
     "text": [
      "train loss: 1.10e+00 | test loss: 2.07e+00 | reg: 4.94e+01 : 100%|██| 10/10 [00:15<00:00,  1.57s/it]\n"
     ]
    },
    {
     "name": "stdout",
     "output_type": "stream",
     "text": [
      "Width: [27, 2], Grid: 4, K: 2, Steps: 10, Train Acc: 0.6404, Test Acc: 0.6401\n"
     ]
    },
    {
     "name": "stderr",
     "output_type": "stream",
     "text": [
      "train loss: 1.08e+00 | test loss: 8.77e-01 | reg: 4.91e+01 : 100%|██| 20/20 [00:31<00:00,  1.56s/it]\n"
     ]
    },
    {
     "name": "stdout",
     "output_type": "stream",
     "text": [
      "Width: [27, 2], Grid: 4, K: 2, Steps: 20, Train Acc: 0.9106, Test Acc: 0.9097\n"
     ]
    },
    {
     "name": "stderr",
     "output_type": "stream",
     "text": [
      "train loss: 6.68e-01 | test loss: 8.06e-01 | reg: 3.96e+01 : 100%|██| 30/30 [00:46<00:00,  1.55s/it]\n"
     ]
    },
    {
     "name": "stdout",
     "output_type": "stream",
     "text": [
      "Width: [27, 2], Grid: 4, K: 2, Steps: 30, Train Acc: 0.8936, Test Acc: 0.8896\n"
     ]
    },
    {
     "name": "stderr",
     "output_type": "stream",
     "text": [
      "train loss: 4.77e-01 | test loss: 4.49e-01 | reg: 3.56e+01 : 100%|██| 50/50 [01:18<00:00,  1.56s/it]\n"
     ]
    },
    {
     "name": "stdout",
     "output_type": "stream",
     "text": [
      "Width: [27, 2], Grid: 4, K: 2, Steps: 50, Train Acc: 0.9359, Test Acc: 0.9317\n"
     ]
    },
    {
     "name": "stderr",
     "output_type": "stream",
     "text": [
      "train loss: 3.53e-01 | test loss: 3.66e-01 | reg: 3.38e+01 : 100%|█| 100/100 [02:24<00:00,  1.45s/it\n"
     ]
    },
    {
     "name": "stdout",
     "output_type": "stream",
     "text": [
      "Width: [27, 2], Grid: 4, K: 2, Steps: 100, Train Acc: 0.9555, Test Acc: 0.9513\n"
     ]
    },
    {
     "name": "stderr",
     "output_type": "stream",
     "text": [
      "train loss: 3.26e-01 | test loss: 3.42e-01 | reg: 2.66e+01 : 100%|██| 10/10 [03:17<00:00, 19.74s/it]\n"
     ]
    },
    {
     "name": "stdout",
     "output_type": "stream",
     "text": [
      "Width: [27, 2], Grid: 4, K: 3, Steps: 10, Train Acc: 0.9607, Test Acc: 0.9573\n"
     ]
    },
    {
     "name": "stderr",
     "output_type": "stream",
     "text": [
      "train loss: 3.20e-01 | test loss: 3.38e-01 | reg: 2.93e+01 : 100%|██| 20/20 [06:53<00:00, 20.66s/it]\n"
     ]
    },
    {
     "name": "stdout",
     "output_type": "stream",
     "text": [
      "Width: [27, 2], Grid: 4, K: 3, Steps: 20, Train Acc: 0.9624, Test Acc: 0.9579\n"
     ]
    },
    {
     "name": "stderr",
     "output_type": "stream",
     "text": [
      "train loss: 2.93e-01 | test loss: 3.07e-01 | reg: 7.42e+01 : 100%|██| 30/30 [10:28<00:00, 20.94s/it]\n"
     ]
    },
    {
     "name": "stdout",
     "output_type": "stream",
     "text": [
      "Width: [27, 2], Grid: 4, K: 3, Steps: 30, Train Acc: 0.9685, Test Acc: 0.9658\n"
     ]
    },
    {
     "name": "stderr",
     "output_type": "stream",
     "text": [
      "train loss: 2.87e-01 | test loss: 2.99e-01 | reg: 7.60e+01 : 100%|██| 50/50 [17:40<00:00, 21.21s/it]\n"
     ]
    },
    {
     "name": "stdout",
     "output_type": "stream",
     "text": [
      "Width: [27, 2], Grid: 4, K: 3, Steps: 50, Train Acc: 0.9698, Test Acc: 0.9677\n"
     ]
    },
    {
     "name": "stderr",
     "output_type": "stream",
     "text": [
      "train loss: 2.56e-01 | test loss: 2.65e-01 | reg: 9.94e+01 : 100%|█| 100/100 [34:56<00:00, 20.97s/it\n"
     ]
    },
    {
     "name": "stdout",
     "output_type": "stream",
     "text": [
      "Width: [27, 2], Grid: 4, K: 3, Steps: 100, Train Acc: 0.9767, Test Acc: 0.9758\n"
     ]
    },
    {
     "name": "stderr",
     "output_type": "stream",
     "text": [
      "train loss: 1.29e+00 | test loss: 2.10e+00 | reg: 4.94e+01 : 100%|██| 10/10 [00:25<00:00,  2.52s/it]\n"
     ]
    },
    {
     "name": "stdout",
     "output_type": "stream",
     "text": [
      "Width: [27, 2], Grid: 4, K: 3, Steps: 10, Train Acc: 0.6194, Test Acc: 0.6237\n"
     ]
    },
    {
     "name": "stderr",
     "output_type": "stream",
     "text": [
      "train loss: 9.02e-01 | test loss: 1.02e+00 | reg: 4.55e+01 : 100%|██| 20/20 [00:50<00:00,  2.50s/it]\n"
     ]
    },
    {
     "name": "stdout",
     "output_type": "stream",
     "text": [
      "Width: [27, 2], Grid: 4, K: 3, Steps: 20, Train Acc: 0.8417, Test Acc: 0.8427\n"
     ]
    },
    {
     "name": "stderr",
     "output_type": "stream",
     "text": [
      "train loss: 6.78e-01 | test loss: 7.03e-01 | reg: 3.90e+01 : 100%|██| 30/30 [01:15<00:00,  2.50s/it]\n"
     ]
    },
    {
     "name": "stdout",
     "output_type": "stream",
     "text": [
      "Width: [27, 2], Grid: 4, K: 3, Steps: 30, Train Acc: 0.8962, Test Acc: 0.8919\n"
     ]
    },
    {
     "name": "stderr",
     "output_type": "stream",
     "text": [
      "train loss: 6.17e-01 | test loss: 7.11e-01 | reg: 3.56e+01 : 100%|██| 50/50 [02:06<00:00,  2.52s/it]\n"
     ]
    },
    {
     "name": "stdout",
     "output_type": "stream",
     "text": [
      "Width: [27, 2], Grid: 4, K: 3, Steps: 50, Train Acc: 0.8221, Test Acc: 0.8194\n"
     ]
    },
    {
     "name": "stderr",
     "output_type": "stream",
     "text": [
      "train loss: 3.66e-01 | test loss: 3.75e-01 | reg: 3.09e+01 : 100%|█| 100/100 [03:48<00:00,  2.29s/it\n"
     ]
    },
    {
     "name": "stdout",
     "output_type": "stream",
     "text": [
      "Width: [27, 2], Grid: 4, K: 3, Steps: 100, Train Acc: 0.9532, Test Acc: 0.9479\n"
     ]
    },
    {
     "name": "stderr",
     "output_type": "stream",
     "text": [
      "train loss: 4.03e-01 | test loss: 4.17e-01 | reg: 2.77e+01 : 100%|██| 10/10 [05:05<00:00, 30.57s/it]\n"
     ]
    },
    {
     "name": "stdout",
     "output_type": "stream",
     "text": [
      "Width: [27, 2], Grid: 4, K: 4, Steps: 10, Train Acc: 0.9389, Test Acc: 0.9329\n"
     ]
    },
    {
     "name": "stderr",
     "output_type": "stream",
     "text": [
      "train loss: 4.10e-01 | test loss: 4.21e-01 | reg: 2.91e+01 : 100%|██| 20/20 [10:13<00:00, 30.68s/it]\n"
     ]
    },
    {
     "name": "stdout",
     "output_type": "stream",
     "text": [
      "Width: [27, 2], Grid: 4, K: 4, Steps: 20, Train Acc: 0.9365, Test Acc: 0.9312\n"
     ]
    },
    {
     "name": "stderr",
     "output_type": "stream",
     "text": [
      "train loss: 3.93e-01 | test loss: 4.09e-01 | reg: 3.82e+01 : 100%|██| 30/30 [15:27<00:00, 30.91s/it]\n"
     ]
    },
    {
     "name": "stdout",
     "output_type": "stream",
     "text": [
      "Width: [27, 2], Grid: 4, K: 4, Steps: 30, Train Acc: 0.9416, Test Acc: 0.9390\n"
     ]
    },
    {
     "name": "stderr",
     "output_type": "stream",
     "text": [
      "train loss: 3.46e-01 | test loss: 3.61e-01 | reg: 5.62e+01 : 100%|██| 50/50 [25:49<00:00, 30.99s/it]\n"
     ]
    },
    {
     "name": "stdout",
     "output_type": "stream",
     "text": [
      "Width: [27, 2], Grid: 4, K: 4, Steps: 50, Train Acc: 0.9560, Test Acc: 0.9513\n"
     ]
    },
    {
     "name": "stderr",
     "output_type": "stream",
     "text": [
      "train loss: 2.34e-01 | test loss: 2.47e-01 | reg: 9.30e+01 : 100%|█| 100/100 [1:25:43<00:00, 51.43s/\n"
     ]
    },
    {
     "name": "stdout",
     "output_type": "stream",
     "text": [
      "Width: [27, 2], Grid: 4, K: 4, Steps: 100, Train Acc: 0.9802, Test Acc: 0.9793\n"
     ]
    },
    {
     "name": "stderr",
     "output_type": "stream",
     "text": [
      "train loss: 1.20e+00 | test loss: 2.00e+00 | reg: 4.59e+01 : 100%|██| 10/10 [00:43<00:00,  4.37s/it]\n"
     ]
    },
    {
     "name": "stdout",
     "output_type": "stream",
     "text": [
      "Width: [27, 2], Grid: 4, K: 4, Steps: 10, Train Acc: 0.6020, Test Acc: 0.6016\n"
     ]
    },
    {
     "name": "stderr",
     "output_type": "stream",
     "text": [
      "train loss: 1.29e+00 | test loss: 1.13e+00 | reg: 4.42e+01 : 100%|██| 20/20 [01:25<00:00,  4.29s/it]\n"
     ]
    },
    {
     "name": "stdout",
     "output_type": "stream",
     "text": [
      "Width: [27, 2], Grid: 4, K: 4, Steps: 20, Train Acc: 0.8333, Test Acc: 0.8333\n"
     ]
    },
    {
     "name": "stderr",
     "output_type": "stream",
     "text": [
      "train loss: 1.17e+00 | test loss: 1.06e+00 | reg: 3.69e+01 : 100%|██| 30/30 [02:08<00:00,  4.29s/it]\n"
     ]
    },
    {
     "name": "stdout",
     "output_type": "stream",
     "text": [
      "Width: [27, 2], Grid: 4, K: 4, Steps: 30, Train Acc: 0.8329, Test Acc: 0.8297\n"
     ]
    },
    {
     "name": "stderr",
     "output_type": "stream",
     "text": [
      "train loss: 5.93e-01 | test loss: 5.87e-01 | reg: 2.91e+01 : 100%|██| 50/50 [03:16<00:00,  3.92s/it]\n"
     ]
    },
    {
     "name": "stdout",
     "output_type": "stream",
     "text": [
      "Width: [27, 2], Grid: 4, K: 4, Steps: 50, Train Acc: 0.8783, Test Acc: 0.8746\n"
     ]
    },
    {
     "name": "stderr",
     "output_type": "stream",
     "text": [
      "train loss: 4.16e-01 | test loss: 4.26e-01 | reg: 3.26e+01 : 100%|█| 100/100 [06:26<00:00,  3.87s/it"
     ]
    },
    {
     "name": "stdout",
     "output_type": "stream",
     "text": [
      "Width: [27, 2], Grid: 4, K: 4, Steps: 100, Train Acc: 0.9349, Test Acc: 0.9309\n"
     ]
    },
    {
     "name": "stderr",
     "output_type": "stream",
     "text": [
      "\n"
     ]
    }
   ],
   "source": [
    "best_params = None\n",
    "best_accuracy = 0\n",
    "\n",
    "# Iterar sobre todas as combinações de hiperparâmetros\n",
    "for width in param_grid['width']:\n",
    "    for grid in param_grid['grid']:\n",
    "        for k in param_grid['k']:\n",
    "            for opt in param_grid['opt']:\n",
    "                for steps in param_grid['steps']:\n",
    "                    train_acc, test_acc = train_and_evaluate_model(width, grid, k, steps, opt)\n",
    "                    print(f\"Width: {width}, Grid: {grid}, K: {k}, Steps: {steps}, Train Acc: {train_acc:.4f}, Test Acc: {test_acc:.4f}\")\n",
    "                    \n",
    "                    if test_acc > best_accuracy:\n",
    "                        best_accuracy = test_acc\n",
    "                        best_params = {'width': width, 'grid': grid, 'k': k, 'steps': steps, 'opt':opt}"
   ]
  },
  {
   "cell_type": "markdown",
   "metadata": {},
   "source": [
    "Analise da combinação de parâmetros escolhida"
   ]
  },
  {
   "cell_type": "code",
   "execution_count": 49,
   "metadata": {},
   "outputs": [
    {
     "name": "stdout",
     "output_type": "stream",
     "text": [
      "Best parameters: {'width': [27, 2], 'grid': 4, 'k': 4, 'steps': 100, 'opt': 'LBFGS'}\n",
      "Best test accuracy: 0.9793\n"
     ]
    }
   ],
   "source": [
    "print(f\"Best parameters: {best_params}\")\n",
    "print(f\"Best test accuracy: {best_accuracy:.4f}\")"
   ]
  },
  {
   "cell_type": "markdown",
   "metadata": {},
   "source": [
    "Treinamento com os parametros escolhidos no Grid Search"
   ]
  },
  {
   "cell_type": "code",
   "execution_count": 52,
   "metadata": {},
   "outputs": [],
   "source": [
    "final_model = KAN(width=best_params['width'], grid=best_params['grid'], k=best_params['k'])\n"
   ]
  },
  {
   "cell_type": "code",
   "execution_count": 55,
   "metadata": {},
   "outputs": [
    {
     "name": "stderr",
     "output_type": "stream",
     "text": [
      "\n",
      "\u001b[A\n",
      "\u001b[A\n",
      "\u001b[A\n",
      "\u001b[A\n",
      "\u001b[A\n",
      "\u001b[A\n",
      "\u001b[A\n",
      "\u001b[A\n",
      "\u001b[A\n",
      "\u001b[A\n",
      "\u001b[A\n",
      "\u001b[A\n",
      "\u001b[A\n",
      "\u001b[A\n",
      "\u001b[A\n",
      "\u001b[A\n",
      "\u001b[A\n",
      "\u001b[A\n",
      "\u001b[A\n",
      "\u001b[A\n",
      "\u001b[A\n",
      "\u001b[A\n",
      "\u001b[A\n",
      "\u001b[A\n",
      "\u001b[A\n",
      "\u001b[A\n",
      "\u001b[A\n",
      "\u001b[A\n",
      "\u001b[A\n",
      "\u001b[A\n",
      "\u001b[A\n",
      "\u001b[A\n",
      "\u001b[A\n",
      "\u001b[A\n",
      "\u001b[A\n",
      "\u001b[A\n",
      "\u001b[A\n",
      "\u001b[A\n",
      "\u001b[A\n",
      "\u001b[A\n",
      "\u001b[A\n",
      "\u001b[A\n",
      "\u001b[A\n",
      "\u001b[A\n",
      "\u001b[A\n",
      "\u001b[A\n",
      "\u001b[A\n",
      "\u001b[A\n",
      "\u001b[A\n",
      "\u001b[A\n",
      "\u001b[A\n",
      "\u001b[A\n",
      "\u001b[A\n",
      "\u001b[A\n",
      "\u001b[A\n",
      "\u001b[A\n",
      "\u001b[A\n",
      "\u001b[A\n",
      "\u001b[A\n",
      "\u001b[A\n",
      "\u001b[A\n",
      "\u001b[A\n",
      "\u001b[A\n",
      "\u001b[A\n",
      "\u001b[A\n",
      "\u001b[A\n",
      "\u001b[A\n",
      "\u001b[A\n",
      "\u001b[A\n",
      "\u001b[A\n",
      "\u001b[A\n",
      "\u001b[A\n",
      "\u001b[A\n",
      "\u001b[A\n",
      "\u001b[A\n",
      "\u001b[A\n",
      "\u001b[A\n",
      "\u001b[A\n",
      "\u001b[A\n",
      "\u001b[A\n",
      "\u001b[A\n",
      "\u001b[A\n",
      "\u001b[A\n",
      "\u001b[A\n",
      "\u001b[A\n",
      "\u001b[A\n",
      "\u001b[A\n",
      "\u001b[A\n",
      "\u001b[A\n",
      "\u001b[A\n",
      "\u001b[A\n",
      "\u001b[A\n",
      "\u001b[A\n",
      "\u001b[A\n",
      "\u001b[A\n",
      "\u001b[A\n",
      "\u001b[A\n",
      "\u001b[A\n",
      "\u001b[A\n",
      "\u001b[A\n",
      "\u001b[A\n",
      "\u001b[A\n",
      "\u001b[A\n",
      "\u001b[A\n",
      "\u001b[A\n",
      "\u001b[A\n",
      "\u001b[A\n",
      "\u001b[A\n",
      "\u001b[A\n",
      "\u001b[A\n",
      "\u001b[A\n",
      "\u001b[A\n",
      "\u001b[A\n",
      "\u001b[A\n",
      "\u001b[A\n",
      "\u001b[A\n",
      "\u001b[A\n",
      "\u001b[A\n",
      "\u001b[A\n",
      "\u001b[A\n",
      "\u001b[A\n",
      "\u001b[A\n",
      "\u001b[A\n",
      "\u001b[A\n",
      "\u001b[A\n",
      "\u001b[A\n",
      "\u001b[A\n",
      "\u001b[A\n",
      "\u001b[A\n",
      "\u001b[A\n",
      "\u001b[A\n",
      "\u001b[A\n",
      "\u001b[A\n",
      "\u001b[A\n",
      "\u001b[A\n",
      "\u001b[A\n",
      "\u001b[A\n",
      "\u001b[A\n",
      "\u001b[A\n",
      "\u001b[A\n",
      "\u001b[A\n",
      "\u001b[A\n",
      "\u001b[A\n",
      "\u001b[A\n",
      "\u001b[A\n",
      "\u001b[A\n",
      "\u001b[A\n",
      "\u001b[A\n",
      "\u001b[A\n",
      "\u001b[A\n",
      "\u001b[A\n",
      "\u001b[A\n",
      "\u001b[A\n",
      "\u001b[A\n",
      "\u001b[A\n",
      "\u001b[A\n",
      "\u001b[A\n",
      "\u001b[A\n",
      "\u001b[A\n",
      "\u001b[A\n",
      "\u001b[A\n",
      "\u001b[A\n",
      "\u001b[A\n",
      "\u001b[A\n",
      "\u001b[A\n",
      "\u001b[A\n",
      "\u001b[A\n",
      "\u001b[A\n",
      "\u001b[A\n",
      "\u001b[A\n",
      "\u001b[A\n",
      "\u001b[A\n",
      "\u001b[A\n",
      "\u001b[A\n",
      "\u001b[A\n",
      "\u001b[A\n",
      "\u001b[A\n",
      "\u001b[A\n",
      "\u001b[A\n",
      "\u001b[A\n",
      "\u001b[A\n",
      "\u001b[A\n",
      "\u001b[A\n",
      "\u001b[A\n",
      "\u001b[A\n",
      "\u001b[A\n",
      "\u001b[A\n",
      "\u001b[A\n",
      "\u001b[A\n",
      "\u001b[A\n",
      "\u001b[A\n",
      "\u001b[A\n",
      "\u001b[A\n",
      "\u001b[A\n",
      "\u001b[A\n",
      "\u001b[A\n",
      "\u001b[A\n",
      "\u001b[A\n",
      "\u001b[A\n",
      "\u001b[A\n",
      "train loss: 2.27e-01 | test loss: 2.42e-01 | reg: 1.15e+02 : 100%|█| 100/100 [55:31<00:00, 33.31s/it\n"
     ]
    }
   ],
   "source": [
    "# Funções de avaliação\n",
    "def train_acc():\n",
    "    return torch.mean((torch.argmax(model(dataset['train_input']), dim=1) == dataset['train_label']).float())\n",
    "\n",
    "def test_acc():\n",
    "    return torch.mean((torch.argmax(model(dataset['test_input']), dim=1) == dataset['test_label']).float())\n",
    "\n",
    "results = final_model.train(dataset, opt=best_params['opt'], steps=best_params['steps'], metrics=(train_acc, test_acc), loss_fn=torch.nn.CrossEntropyLoss())"
   ]
  },
  {
   "cell_type": "markdown",
   "metadata": {},
   "source": [
    "Avaliação do modelo treinado"
   ]
  },
  {
   "cell_type": "code",
   "execution_count": 56,
   "metadata": {},
   "outputs": [
    {
     "name": "stderr",
     "output_type": "stream",
     "text": [
      "description:   0%|                                                        | 0/100 [1:03:47<?, ?it/s]\n",
      "description:   0%|                                                        | 0/100 [1:18:54<?, ?it/s]\n"
     ]
    },
    {
     "data": {
      "image/png": "[encoded data removed]",
      "text/plain": [
       "<Figure size 500x200 with 55 Axes>"
      ]
     },
     "metadata": {},
     "output_type": "display_data"
    }
   ],
   "source": [
    "final_model.plot()"
   ]
  },
  {
   "cell_type": "code",
   "execution_count": 57,
   "metadata": {},
   "outputs": [
    {
     "name": "stdout",
     "output_type": "stream",
     "text": [
      "Acurácia final no conjunto de treino: 0.9519\n",
      "Acurácia final no conjunto de teste: 0.9462\n"
     ]
    }
   ],
   "source": [
    "final_train_acc = results['train_acc'][-1]\n",
    "final_test_acc = results['test_acc'][-1]\n",
    "\n",
    "print(f\"Acurácia final no conjunto de treino: {final_train_acc:.4f}\")\n",
    "print(f\"Acurácia final no conjunto de teste: {final_test_acc:.4f}\")"
   ]
  },
  {
   "cell_type": "code",
   "execution_count": 58,
   "metadata": {},
   "outputs": [
    {
     "data": {
      "image/png": "[encoded data removed]",
      "text/plain": [
       "<Figure size 640x480 with 1 Axes>"
      ]
     },
     "metadata": {},
     "output_type": "display_data"
    }
   ],
   "source": [
    "plt.plot(results['train_acc'], label='Train Accuracy')\n",
    "plt.plot(results['test_acc'], label='Test Accuracy')\n",
    "plt.xlabel('Steps')\n",
    "plt.ylabel('Accuracy')\n",
    "plt.legend()\n",
    "plt.show()"
   ]
  },
  {
   "cell_type": "code",
   "execution_count": 59,
   "metadata": {},
   "outputs": [
    {
     "name": "stdout",
     "output_type": "stream",
     "text": [
      "MSE: 0.020322712418300654\n"
     ]
    }
   ],
   "source": [
    "# Calcular o MSE\n",
    "\n",
    "test_outputs = final_model(dataset['test_input'])\n",
    "test_predictions = torch.argmax(test_outputs, dim=1).numpy()\n",
    "\n",
    "mse = mean_squared_error(y_validation, test_predictions)\n",
    "print(f\"MSE: {mse}\")"
   ]
  },
  {
   "cell_type": "code",
   "execution_count": 60,
   "metadata": {},
   "outputs": [
    {
     "name": "stdout",
     "output_type": "stream",
     "text": [
      "Test Recall: 0.9822984749455338\n"
     ]
    }
   ],
   "source": [
    "# Calcular o Recall para o conjunto de teste\n",
    "test_recall = recall_score(y_validation, test_predictions)\n",
    "print(\"Test Recall:\", test_recall)"
   ]
  },
  {
   "cell_type": "code",
   "execution_count": 61,
   "metadata": {},
   "outputs": [
    {
     "name": "stdout",
     "output_type": "stream",
     "text": [
      "Test Precision: 0.9771757534710463\n"
     ]
    }
   ],
   "source": [
    "# Calcular a Precision para o conjunto de teste\n",
    "test_precision = precision_score(y_validation, test_predictions)\n",
    "print(\"Test Precision:\", test_precision)"
   ]
  },
  {
   "cell_type": "code",
   "execution_count": 62,
   "metadata": {},
   "outputs": [
    {
     "name": "stdout",
     "output_type": "stream",
     "text": [
      "Test F1-Score: 0.9797304179540286\n"
     ]
    }
   ],
   "source": [
    "# Calcular o F1-Score para o conjunto de teste\n",
    "test_f1 = f1_score(y_validation, test_predictions)\n",
    "print(\"Test F1-Score:\", test_f1)"
   ]
  },
  {
   "cell_type": "code",
   "execution_count": 63,
   "metadata": {},
   "outputs": [
    {
     "data": {
      "image/png": "[encoded data removed]",
      "text/plain": [
       "<Figure size 1000x700 with 2 Axes>"
      ]
     },
     "metadata": {},
     "output_type": "display_data"
    }
   ],
   "source": [
    "test_outputs = final_model(dataset['test_input'])\n",
    "test_predictions = torch.argmax(test_outputs, dim=1).numpy()\n",
    "\n",
    "conf_matrix = confusion_matrix(y_validation, test_predictions)\n",
    "conf_matrix_percent = conf_matrix / conf_matrix.sum(axis=1, keepdims=True) * 100\n",
    "\n",
    "annot_labels = [['{:.1f}%'.format(value) for value in row] for row in conf_matrix_percent]\n",
    "\n",
    "plt.figure(figsize=(10, 7))\n",
    "sns.heatmap(conf_matrix, annot=annot_labels, fmt='', cmap='Blues')\n",
    "\n",
    "plt.xlabel('Predicted')\n",
    "plt.ylabel('True')\n",
    "plt.title('Confusion Matrix')\n",
    "\n",
    "plt.show()"
   ]
  },
  {
   "cell_type": "code",
   "execution_count": 64,
   "metadata": {},
   "outputs": [
    {
     "data": {
      "image/png": "[encoded data removed]",
      "text/plain": [
       "<Figure size 640x480 with 1 Axes>"
      ]
     },
     "metadata": {},
     "output_type": "display_data"
    }
   ],
   "source": [
    "test_probs = torch.softmax(test_outputs, dim=1).detach().numpy()\n",
    "fpr, tpr, _ = roc_curve(y_validation, test_probs[:, 1])\n",
    "roc_auc = auc(fpr, tpr)\n",
    "\n",
    "plt.figure()\n",
    "plt.plot(fpr, tpr, color='darkorange', lw=2, label=f'ROC curve (area = {roc_auc:.2f})')\n",
    "plt.plot([0, 1], [0, 1], color='navy', lw=2, linestyle='--')\n",
    "plt.xlim([0.0, 1.0])\n",
    "plt.ylim([0.0, 1.05])\n",
    "plt.xlabel('False Positive Rate')\n",
    "plt.ylabel('True Positive Rate')\n",
    "plt.title('Receiver Operating Characteristic (ROC) Curve')\n",
    "plt.legend(loc='lower right')\n",
    "plt.show()"
   ]
  },
  {
   "cell_type": "code",
   "execution_count": 65,
   "metadata": {},
   "outputs": [
    {
     "data": {
      "image/png": "[encoded data removed]",
      "text/plain": [
       "<Figure size 640x480 with 1 Axes>"
      ]
     },
     "metadata": {},
     "output_type": "display_data"
    },
    {
     "name": "stdout",
     "output_type": "stream",
     "text": [
      "KS Statistic: 0.96\n"
     ]
    }
   ],
   "source": [
    "ks_statistic = np.max(tpr - fpr)\n",
    "ks_idx = np.argmax(tpr - fpr)\n",
    "plt.figure()\n",
    "plt.plot(fpr, tpr, label='True Positive Rate (TPR)')\n",
    "plt.plot(fpr, fpr, label='False Positive Rate (FPR)')\n",
    "plt.plot([fpr[ks_idx]], [tpr[ks_idx]], marker='o', markersize=5, color=\"red\")\n",
    "plt.text(fpr[ks_idx], tpr[ks_idx], f'KS={ks_statistic:.2f}', fontsize=12, verticalalignment='top')\n",
    "plt.xlabel('False Positive Rate')\n",
    "plt.ylabel('Rate')\n",
    "plt.title('Kolmogorov-Smirnov (KS) Curve')\n",
    "plt.legend(loc='best')\n",
    "plt.show()\n",
    "\n",
    "print(f\"KS Statistic: {ks_statistic:.2f}\")"
   ]
  }
 ],
 "metadata": {
  "kernelspec": {
   "display_name": "pykan-env",
   "language": "python",
   "name": "python3"
  },
  "language_info": {
   "codemirror_mode": {
    "name": "ipython",
    "version": 3
   },
   "file_extension": ".py",
   "mimetype": "text/x-python",
   "name": "python",
   "nbconvert_exporter": "python",
   "pygments_lexer": "ipython3",
   "version": "3.11.3"
  }
 },
 "nbformat": 4,
 "nbformat_minor": 2
}
